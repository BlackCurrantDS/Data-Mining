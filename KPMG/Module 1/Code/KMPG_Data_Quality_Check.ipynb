{
  "nbformat": 4,
  "nbformat_minor": 0,
  "metadata": {
    "colab": {
      "name": "KMPG-Data Quality Check.ipynb",
      "provenance": []
    },
    "kernelspec": {
      "name": "python3",
      "display_name": "Python 3"
    },
    "language_info": {
      "name": "python"
    }
  },
  "cells": [
    {
      "cell_type": "code",
      "metadata": {
        "id": "ZswUui9qOKus"
      },
      "source": [
        "import pandas as pd\n",
        "import pandas_profiling as pp\n",
        "\n",
        "import numpy as np"
      ],
      "execution_count": 1,
      "outputs": []
    },
    {
      "cell_type": "code",
      "metadata": {
        "colab": {
          "base_uri": "https://localhost:8080/"
        },
        "id": "POSkv1_zO0xP",
        "outputId": "a333754f-241b-4db4-e908-90427adecd3f"
      },
      "source": [
        "# reading all the sheets to see what tabs are present\n",
        "df = pd.read_excel('/content/KPMG_VI_New_raw_data_update_final.xlsx', sheet_name=None)\n",
        "\n",
        "print(df.keys())"
      ],
      "execution_count": 2,
      "outputs": [
        {
          "output_type": "stream",
          "text": [
            "dict_keys(['Title Sheet', 'Transactions', 'NewCustomerList', 'CustomerDemographic', 'CustomerAddress'])\n"
          ],
          "name": "stdout"
        }
      ]
    },
    {
      "cell_type": "code",
      "metadata": {
        "id": "pl6m7N42PKH-"
      },
      "source": [
        "#reading each sheet into a dataframe except the title sheet\n",
        "df_list = [] #holiding all dataframes\n",
        "\n",
        "for sheet in df.keys():\n",
        "  if sheet == \"Title Sheet\":\n",
        "    pass\n",
        "  else:\n",
        "    df = pd.read_excel('/content/KPMG_VI_New_raw_data_update_final.xlsx', sheet_name=sheet,skiprows = 1) #skipping first discloure row\n",
        "    df.name = sheet\n",
        "    df_list.append(df)"
      ],
      "execution_count": 3,
      "outputs": []
    },
    {
      "cell_type": "code",
      "metadata": {
        "colab": {
          "base_uri": "https://localhost:8080/"
        },
        "id": "oXXyLPs_opXH",
        "outputId": "43e473ed-644c-44a8-a955-9f1b8306b2ef"
      },
      "source": [
        "df_list"
      ],
      "execution_count": 4,
      "outputs": [
        {
          "output_type": "execute_result",
          "data": {
            "text/plain": [
              "[       transaction_id  product_id  ...  standard_cost product_first_sold_date\n",
              " 0                   1           2  ...          53.62                 41245.0\n",
              " 1                   2           3  ...         388.92                 41701.0\n",
              " 2                   3          37  ...         248.82                 36361.0\n",
              " 3                   4          88  ...         381.10                 36145.0\n",
              " 4                   5          78  ...         709.48                 42226.0\n",
              " ...               ...         ...  ...            ...                     ...\n",
              " 19995           19996          51  ...        1203.40                 37823.0\n",
              " 19996           19997          41  ...         312.74                 35560.0\n",
              " 19997           19998          87  ...          44.71                 40410.0\n",
              " 19998           19999           6  ...         136.73                 38216.0\n",
              " 19999           20000          11  ...        1580.47                 36334.0\n",
              " \n",
              " [20000 rows x 13 columns],\n",
              "     first_name  last_name  gender  ...  Unnamed: 20  Rank     Value\n",
              " 0      Chickie    Brister    Male  ...            1     1  1.718750\n",
              " 1        Morly     Genery    Male  ...            1     1  1.718750\n",
              " 2      Ardelis  Forrester  Female  ...            1     1  1.718750\n",
              " 3       Lucine      Stutt  Female  ...            4     4  1.703125\n",
              " 4      Melinda     Hadlee  Female  ...            4     4  1.703125\n",
              " ..         ...        ...     ...  ...          ...   ...       ...\n",
              " 995  Ferdinand  Romanetti    Male  ...          996   996  0.374000\n",
              " 996       Burk    Wortley    Male  ...          997   997  0.357000\n",
              " 997   Melloney      Temby  Female  ...          997   997  0.357000\n",
              " 998     Dickie    Cubbini    Male  ...          997   997  0.357000\n",
              " 999      Sylas    Duffill    Male  ...         1000  1000  0.340000\n",
              " \n",
              " [1000 rows x 23 columns],\n",
              "       customer_id      first_name  ... owns_car tenure\n",
              " 0               1         Laraine  ...      Yes   11.0\n",
              " 1               2             Eli  ...      Yes   16.0\n",
              " 2               3           Arlin  ...      Yes   15.0\n",
              " 3               4          Talbot  ...       No    7.0\n",
              " 4               5  Sheila-kathryn  ...      Yes    8.0\n",
              " ...           ...             ...  ...      ...    ...\n",
              " 3995         3996         Rosalia  ...       No   19.0\n",
              " 3996         3997          Blanch  ...      Yes    1.0\n",
              " 3997         3998          Sarene  ...       No    NaN\n",
              " 3998         3999       Patrizius  ...      Yes   10.0\n",
              " 3999         4000           Kippy  ...       No   11.0\n",
              " \n",
              " [4000 rows x 13 columns],\n",
              "       customer_id                    address  ...    country property_valuation\n",
              " 0               1         060 Morning Avenue  ...  Australia                 10\n",
              " 1               2        6 Meadow Vale Court  ...  Australia                 10\n",
              " 2               4         0 Holy Cross Court  ...  Australia                  9\n",
              " 3               5        17979 Del Mar Point  ...  Australia                  4\n",
              " 4               6           9 Oakridge Court  ...  Australia                  9\n",
              " ...           ...                        ...  ...        ...                ...\n",
              " 3994         3999            1482 Hauk Trail  ...  Australia                  3\n",
              " 3995         4000  57042 Village Green Point  ...  Australia                  6\n",
              " 3996         4001     87 Crescent Oaks Alley  ...  Australia                 10\n",
              " 3997         4002           8194 Lien Street  ...  Australia                  7\n",
              " 3998         4003            320 Acker Drive  ...  Australia                  7\n",
              " \n",
              " [3999 rows x 6 columns]]"
            ]
          },
          "metadata": {
            "tags": []
          },
          "execution_count": 4
        }
      ]
    },
    {
      "cell_type": "markdown",
      "metadata": {
        "id": "vdCErc7tpybm"
      },
      "source": [
        "Data Profiling"
      ]
    },
    {
      "cell_type": "code",
      "metadata": {
        "colab": {
          "base_uri": "https://localhost:8080/",
          "height": 52
        },
        "id": "plNn2_nymqdP",
        "outputId": "df060d5b-4d8d-4840-ee62-043c72dc0482"
      },
      "source": [
        "for df in df_list:\n",
        "  profile = pp.ProfileReport(df)\n",
        "  output_file = df.name+\"_data_profile.html\"\n",
        "  profile.to_file(output_file=output_file)"
      ],
      "execution_count": 5,
      "outputs": [
        {
          "output_type": "execute_result",
          "data": {
            "application/vnd.google.colaboratory.intrinsic+json": {
              "type": "string"
            },
            "text/plain": [
              "'for df in df_list:\\n  profile = pp.ProfileReport(df)\\n  output_file = df.name+\"_data_profile.html\"\\n  profile.to_file(output_file=output_file)'"
            ]
          },
          "metadata": {
            "tags": []
          },
          "execution_count": 5
        }
      ]
    },
    {
      "cell_type": "code",
      "metadata": {
        "id": "qQgNXg_BzpYa"
      },
      "source": [
        "# lets analuze one by one\n",
        "\n",
        "# picking customer address "
      ],
      "execution_count": 6,
      "outputs": []
    },
    {
      "cell_type": "code",
      "metadata": {
        "id": "THsLMJ9H0z4e"
      },
      "source": [
        "CustomerAddress = df_list[3]"
      ],
      "execution_count": 12,
      "outputs": []
    },
    {
      "cell_type": "code",
      "metadata": {
        "colab": {
          "base_uri": "https://localhost:8080/",
          "height": 202
        },
        "id": "VDDFwwVm1pEl",
        "outputId": "76c200c0-731c-4e48-b5cc-ed691b738de2"
      },
      "source": [
        "CustomerAddress.head(5)"
      ],
      "execution_count": 13,
      "outputs": [
        {
          "output_type": "execute_result",
          "data": {
            "text/html": [
              "<div>\n",
              "<style scoped>\n",
              "    .dataframe tbody tr th:only-of-type {\n",
              "        vertical-align: middle;\n",
              "    }\n",
              "\n",
              "    .dataframe tbody tr th {\n",
              "        vertical-align: top;\n",
              "    }\n",
              "\n",
              "    .dataframe thead th {\n",
              "        text-align: right;\n",
              "    }\n",
              "</style>\n",
              "<table border=\"1\" class=\"dataframe\">\n",
              "  <thead>\n",
              "    <tr style=\"text-align: right;\">\n",
              "      <th></th>\n",
              "      <th>customer_id</th>\n",
              "      <th>address</th>\n",
              "      <th>postcode</th>\n",
              "      <th>state</th>\n",
              "      <th>country</th>\n",
              "      <th>property_valuation</th>\n",
              "    </tr>\n",
              "  </thead>\n",
              "  <tbody>\n",
              "    <tr>\n",
              "      <th>0</th>\n",
              "      <td>1</td>\n",
              "      <td>060 Morning Avenue</td>\n",
              "      <td>2016</td>\n",
              "      <td>New South Wales</td>\n",
              "      <td>Australia</td>\n",
              "      <td>10</td>\n",
              "    </tr>\n",
              "    <tr>\n",
              "      <th>1</th>\n",
              "      <td>2</td>\n",
              "      <td>6 Meadow Vale Court</td>\n",
              "      <td>2153</td>\n",
              "      <td>New South Wales</td>\n",
              "      <td>Australia</td>\n",
              "      <td>10</td>\n",
              "    </tr>\n",
              "    <tr>\n",
              "      <th>2</th>\n",
              "      <td>4</td>\n",
              "      <td>0 Holy Cross Court</td>\n",
              "      <td>4211</td>\n",
              "      <td>QLD</td>\n",
              "      <td>Australia</td>\n",
              "      <td>9</td>\n",
              "    </tr>\n",
              "    <tr>\n",
              "      <th>3</th>\n",
              "      <td>5</td>\n",
              "      <td>17979 Del Mar Point</td>\n",
              "      <td>2448</td>\n",
              "      <td>New South Wales</td>\n",
              "      <td>Australia</td>\n",
              "      <td>4</td>\n",
              "    </tr>\n",
              "    <tr>\n",
              "      <th>4</th>\n",
              "      <td>6</td>\n",
              "      <td>9 Oakridge Court</td>\n",
              "      <td>3216</td>\n",
              "      <td>VIC</td>\n",
              "      <td>Australia</td>\n",
              "      <td>9</td>\n",
              "    </tr>\n",
              "  </tbody>\n",
              "</table>\n",
              "</div>"
            ],
            "text/plain": [
              "   customer_id              address  ...    country property_valuation\n",
              "0            1   060 Morning Avenue  ...  Australia                 10\n",
              "1            2  6 Meadow Vale Court  ...  Australia                 10\n",
              "2            4   0 Holy Cross Court  ...  Australia                  9\n",
              "3            5  17979 Del Mar Point  ...  Australia                  4\n",
              "4            6     9 Oakridge Court  ...  Australia                  9\n",
              "\n",
              "[5 rows x 6 columns]"
            ]
          },
          "metadata": {
            "tags": []
          },
          "execution_count": 13
        }
      ]
    },
    {
      "cell_type": "markdown",
      "metadata": {
        "id": "GIsAc5oC19M_"
      },
      "source": [
        "Address looks pretty clean surpringly except of 3 addresses which are repeated twice."
      ]
    },
    {
      "cell_type": "code",
      "metadata": {
        "colab": {
          "base_uri": "https://localhost:8080/",
          "height": 141
        },
        "id": "62-FsCgj3oyE",
        "outputId": "30a84a02-e30c-4874-a3bd-680bf8735a42"
      },
      "source": [
        "CustomerAddress[CustomerAddress.duplicated(['address'])]"
      ],
      "execution_count": 16,
      "outputs": [
        {
          "output_type": "execute_result",
          "data": {
            "text/html": [
              "<div>\n",
              "<style scoped>\n",
              "    .dataframe tbody tr th:only-of-type {\n",
              "        vertical-align: middle;\n",
              "    }\n",
              "\n",
              "    .dataframe tbody tr th {\n",
              "        vertical-align: top;\n",
              "    }\n",
              "\n",
              "    .dataframe thead th {\n",
              "        text-align: right;\n",
              "    }\n",
              "</style>\n",
              "<table border=\"1\" class=\"dataframe\">\n",
              "  <thead>\n",
              "    <tr style=\"text-align: right;\">\n",
              "      <th></th>\n",
              "      <th>customer_id</th>\n",
              "      <th>address</th>\n",
              "      <th>postcode</th>\n",
              "      <th>state</th>\n",
              "      <th>country</th>\n",
              "      <th>property_valuation</th>\n",
              "    </tr>\n",
              "  </thead>\n",
              "  <tbody>\n",
              "    <tr>\n",
              "      <th>2470</th>\n",
              "      <td>2475</td>\n",
              "      <td>3 Talisman Place</td>\n",
              "      <td>4017</td>\n",
              "      <td>QLD</td>\n",
              "      <td>Australia</td>\n",
              "      <td>5</td>\n",
              "    </tr>\n",
              "    <tr>\n",
              "      <th>2980</th>\n",
              "      <td>2985</td>\n",
              "      <td>3 Mariners Cove Terrace</td>\n",
              "      <td>2216</td>\n",
              "      <td>NSW</td>\n",
              "      <td>Australia</td>\n",
              "      <td>10</td>\n",
              "    </tr>\n",
              "    <tr>\n",
              "      <th>3535</th>\n",
              "      <td>3540</td>\n",
              "      <td>64 Macpherson Junction</td>\n",
              "      <td>4061</td>\n",
              "      <td>QLD</td>\n",
              "      <td>Australia</td>\n",
              "      <td>8</td>\n",
              "    </tr>\n",
              "  </tbody>\n",
              "</table>\n",
              "</div>"
            ],
            "text/plain": [
              "      customer_id                  address  ...    country property_valuation\n",
              "2470         2475         3 Talisman Place  ...  Australia                  5\n",
              "2980         2985  3 Mariners Cove Terrace  ...  Australia                 10\n",
              "3535         3540   64 Macpherson Junction  ...  Australia                  8\n",
              "\n",
              "[3 rows x 6 columns]"
            ]
          },
          "metadata": {
            "tags": []
          },
          "execution_count": 16
        }
      ]
    },
    {
      "cell_type": "code",
      "metadata": {
        "colab": {
          "base_uri": "https://localhost:8080/",
          "height": 110
        },
        "id": "-sn_TcEd2FnA",
        "outputId": "1c86ec33-9d9f-4e91-ca0b-d48a41549e42"
      },
      "source": [
        "CustomerAddress.loc[df['address'] == '64 Macpherson Junction']"
      ],
      "execution_count": 14,
      "outputs": [
        {
          "output_type": "execute_result",
          "data": {
            "text/html": [
              "<div>\n",
              "<style scoped>\n",
              "    .dataframe tbody tr th:only-of-type {\n",
              "        vertical-align: middle;\n",
              "    }\n",
              "\n",
              "    .dataframe tbody tr th {\n",
              "        vertical-align: top;\n",
              "    }\n",
              "\n",
              "    .dataframe thead th {\n",
              "        text-align: right;\n",
              "    }\n",
              "</style>\n",
              "<table border=\"1\" class=\"dataframe\">\n",
              "  <thead>\n",
              "    <tr style=\"text-align: right;\">\n",
              "      <th></th>\n",
              "      <th>customer_id</th>\n",
              "      <th>address</th>\n",
              "      <th>postcode</th>\n",
              "      <th>state</th>\n",
              "      <th>country</th>\n",
              "      <th>property_valuation</th>\n",
              "    </tr>\n",
              "  </thead>\n",
              "  <tbody>\n",
              "    <tr>\n",
              "      <th>2315</th>\n",
              "      <td>2320</td>\n",
              "      <td>64 Macpherson Junction</td>\n",
              "      <td>2208</td>\n",
              "      <td>NSW</td>\n",
              "      <td>Australia</td>\n",
              "      <td>11</td>\n",
              "    </tr>\n",
              "    <tr>\n",
              "      <th>3535</th>\n",
              "      <td>3540</td>\n",
              "      <td>64 Macpherson Junction</td>\n",
              "      <td>4061</td>\n",
              "      <td>QLD</td>\n",
              "      <td>Australia</td>\n",
              "      <td>8</td>\n",
              "    </tr>\n",
              "  </tbody>\n",
              "</table>\n",
              "</div>"
            ],
            "text/plain": [
              "      customer_id                 address  ...    country property_valuation\n",
              "2315         2320  64 Macpherson Junction  ...  Australia                 11\n",
              "3535         3540  64 Macpherson Junction  ...  Australia                  8\n",
              "\n",
              "[2 rows x 6 columns]"
            ]
          },
          "metadata": {
            "tags": []
          },
          "execution_count": 14
        }
      ]
    },
    {
      "cell_type": "code",
      "metadata": {
        "colab": {
          "base_uri": "https://localhost:8080/",
          "height": 110
        },
        "id": "4yiQFZZj3P3R",
        "outputId": "db026049-12e2-4096-ba33-b1de747e8f63"
      },
      "source": [
        "CustomerAddress.loc[df['address'] == '3 Mariners Cove Terrace']"
      ],
      "execution_count": 15,
      "outputs": [
        {
          "output_type": "execute_result",
          "data": {
            "text/html": [
              "<div>\n",
              "<style scoped>\n",
              "    .dataframe tbody tr th:only-of-type {\n",
              "        vertical-align: middle;\n",
              "    }\n",
              "\n",
              "    .dataframe tbody tr th {\n",
              "        vertical-align: top;\n",
              "    }\n",
              "\n",
              "    .dataframe thead th {\n",
              "        text-align: right;\n",
              "    }\n",
              "</style>\n",
              "<table border=\"1\" class=\"dataframe\">\n",
              "  <thead>\n",
              "    <tr style=\"text-align: right;\">\n",
              "      <th></th>\n",
              "      <th>customer_id</th>\n",
              "      <th>address</th>\n",
              "      <th>postcode</th>\n",
              "      <th>state</th>\n",
              "      <th>country</th>\n",
              "      <th>property_valuation</th>\n",
              "    </tr>\n",
              "  </thead>\n",
              "  <tbody>\n",
              "    <tr>\n",
              "      <th>2328</th>\n",
              "      <td>2333</td>\n",
              "      <td>3 Mariners Cove Terrace</td>\n",
              "      <td>3108</td>\n",
              "      <td>VIC</td>\n",
              "      <td>Australia</td>\n",
              "      <td>10</td>\n",
              "    </tr>\n",
              "    <tr>\n",
              "      <th>2980</th>\n",
              "      <td>2985</td>\n",
              "      <td>3 Mariners Cove Terrace</td>\n",
              "      <td>2216</td>\n",
              "      <td>NSW</td>\n",
              "      <td>Australia</td>\n",
              "      <td>10</td>\n",
              "    </tr>\n",
              "  </tbody>\n",
              "</table>\n",
              "</div>"
            ],
            "text/plain": [
              "      customer_id                  address  ...    country property_valuation\n",
              "2328         2333  3 Mariners Cove Terrace  ...  Australia                 10\n",
              "2980         2985  3 Mariners Cove Terrace  ...  Australia                 10\n",
              "\n",
              "[2 rows x 6 columns]"
            ]
          },
          "metadata": {
            "tags": []
          },
          "execution_count": 15
        }
      ]
    },
    {
      "cell_type": "code",
      "metadata": {
        "colab": {
          "base_uri": "https://localhost:8080/",
          "height": 110
        },
        "id": "1hcNE_yX4hkc",
        "outputId": "e09cafe5-fbfb-4c8c-86de-2590dc753023"
      },
      "source": [
        "CustomerAddress.loc[df['address'] == '3 Talisman Place']"
      ],
      "execution_count": 18,
      "outputs": [
        {
          "output_type": "execute_result",
          "data": {
            "text/html": [
              "<div>\n",
              "<style scoped>\n",
              "    .dataframe tbody tr th:only-of-type {\n",
              "        vertical-align: middle;\n",
              "    }\n",
              "\n",
              "    .dataframe tbody tr th {\n",
              "        vertical-align: top;\n",
              "    }\n",
              "\n",
              "    .dataframe thead th {\n",
              "        text-align: right;\n",
              "    }\n",
              "</style>\n",
              "<table border=\"1\" class=\"dataframe\">\n",
              "  <thead>\n",
              "    <tr style=\"text-align: right;\">\n",
              "      <th></th>\n",
              "      <th>customer_id</th>\n",
              "      <th>address</th>\n",
              "      <th>postcode</th>\n",
              "      <th>state</th>\n",
              "      <th>country</th>\n",
              "      <th>property_valuation</th>\n",
              "    </tr>\n",
              "  </thead>\n",
              "  <tbody>\n",
              "    <tr>\n",
              "      <th>732</th>\n",
              "      <td>737</td>\n",
              "      <td>3 Talisman Place</td>\n",
              "      <td>4811</td>\n",
              "      <td>QLD</td>\n",
              "      <td>Australia</td>\n",
              "      <td>2</td>\n",
              "    </tr>\n",
              "    <tr>\n",
              "      <th>2470</th>\n",
              "      <td>2475</td>\n",
              "      <td>3 Talisman Place</td>\n",
              "      <td>4017</td>\n",
              "      <td>QLD</td>\n",
              "      <td>Australia</td>\n",
              "      <td>5</td>\n",
              "    </tr>\n",
              "  </tbody>\n",
              "</table>\n",
              "</div>"
            ],
            "text/plain": [
              "      customer_id           address  ...    country property_valuation\n",
              "732           737  3 Talisman Place  ...  Australia                  2\n",
              "2470         2475  3 Talisman Place  ...  Australia                  5\n",
              "\n",
              "[2 rows x 6 columns]"
            ]
          },
          "metadata": {
            "tags": []
          },
          "execution_count": 18
        }
      ]
    },
    {
      "cell_type": "code",
      "metadata": {
        "id": "QeKQ31It5ECy"
      },
      "source": [
        "#postcode can be duplicated for various address, looks pretty clean otherwise\n",
        "#state looks fine as well\n",
        "\n",
        "# but can there be different address for same postcode and state?"
      ],
      "execution_count": null,
      "outputs": []
    },
    {
      "cell_type": "code",
      "metadata": {
        "colab": {
          "base_uri": "https://localhost:8080/",
          "height": 415
        },
        "id": "lk-rkAYK5iFP",
        "outputId": "e90ba806-15c9-46c8-d0d2-21b25f1cf0f2"
      },
      "source": [
        "CustomerAddress[CustomerAddress.duplicated(['postcode', 'state'])]"
      ],
      "execution_count": 21,
      "outputs": [
        {
          "output_type": "execute_result",
          "data": {
            "text/html": [
              "<div>\n",
              "<style scoped>\n",
              "    .dataframe tbody tr th:only-of-type {\n",
              "        vertical-align: middle;\n",
              "    }\n",
              "\n",
              "    .dataframe tbody tr th {\n",
              "        vertical-align: top;\n",
              "    }\n",
              "\n",
              "    .dataframe thead th {\n",
              "        text-align: right;\n",
              "    }\n",
              "</style>\n",
              "<table border=\"1\" class=\"dataframe\">\n",
              "  <thead>\n",
              "    <tr style=\"text-align: right;\">\n",
              "      <th></th>\n",
              "      <th>customer_id</th>\n",
              "      <th>address</th>\n",
              "      <th>postcode</th>\n",
              "      <th>state</th>\n",
              "      <th>country</th>\n",
              "      <th>property_valuation</th>\n",
              "    </tr>\n",
              "  </thead>\n",
              "  <tbody>\n",
              "    <tr>\n",
              "      <th>18</th>\n",
              "      <td>21</td>\n",
              "      <td>18 Jenna Center</td>\n",
              "      <td>2650</td>\n",
              "      <td>New South Wales</td>\n",
              "      <td>Australia</td>\n",
              "      <td>7</td>\n",
              "    </tr>\n",
              "    <tr>\n",
              "      <th>19</th>\n",
              "      <td>24</td>\n",
              "      <td>3 Cordelia Plaza</td>\n",
              "      <td>2153</td>\n",
              "      <td>New South Wales</td>\n",
              "      <td>Australia</td>\n",
              "      <td>10</td>\n",
              "    </tr>\n",
              "    <tr>\n",
              "      <th>26</th>\n",
              "      <td>31</td>\n",
              "      <td>2294 Pleasure Place</td>\n",
              "      <td>2135</td>\n",
              "      <td>New South Wales</td>\n",
              "      <td>Australia</td>\n",
              "      <td>12</td>\n",
              "    </tr>\n",
              "    <tr>\n",
              "      <th>44</th>\n",
              "      <td>49</td>\n",
              "      <td>3107 Calypso Terrace</td>\n",
              "      <td>2210</td>\n",
              "      <td>New South Wales</td>\n",
              "      <td>Australia</td>\n",
              "      <td>9</td>\n",
              "    </tr>\n",
              "    <tr>\n",
              "      <th>60</th>\n",
              "      <td>65</td>\n",
              "      <td>308 Jana Crossing</td>\n",
              "      <td>2153</td>\n",
              "      <td>New South Wales</td>\n",
              "      <td>Australia</td>\n",
              "      <td>10</td>\n",
              "    </tr>\n",
              "    <tr>\n",
              "      <th>...</th>\n",
              "      <td>...</td>\n",
              "      <td>...</td>\n",
              "      <td>...</td>\n",
              "      <td>...</td>\n",
              "      <td>...</td>\n",
              "      <td>...</td>\n",
              "    </tr>\n",
              "    <tr>\n",
              "      <th>3994</th>\n",
              "      <td>3999</td>\n",
              "      <td>1482 Hauk Trail</td>\n",
              "      <td>3064</td>\n",
              "      <td>VIC</td>\n",
              "      <td>Australia</td>\n",
              "      <td>3</td>\n",
              "    </tr>\n",
              "    <tr>\n",
              "      <th>3995</th>\n",
              "      <td>4000</td>\n",
              "      <td>57042 Village Green Point</td>\n",
              "      <td>4511</td>\n",
              "      <td>QLD</td>\n",
              "      <td>Australia</td>\n",
              "      <td>6</td>\n",
              "    </tr>\n",
              "    <tr>\n",
              "      <th>3996</th>\n",
              "      <td>4001</td>\n",
              "      <td>87 Crescent Oaks Alley</td>\n",
              "      <td>2756</td>\n",
              "      <td>NSW</td>\n",
              "      <td>Australia</td>\n",
              "      <td>10</td>\n",
              "    </tr>\n",
              "    <tr>\n",
              "      <th>3997</th>\n",
              "      <td>4002</td>\n",
              "      <td>8194 Lien Street</td>\n",
              "      <td>4032</td>\n",
              "      <td>QLD</td>\n",
              "      <td>Australia</td>\n",
              "      <td>7</td>\n",
              "    </tr>\n",
              "    <tr>\n",
              "      <th>3998</th>\n",
              "      <td>4003</td>\n",
              "      <td>320 Acker Drive</td>\n",
              "      <td>2251</td>\n",
              "      <td>NSW</td>\n",
              "      <td>Australia</td>\n",
              "      <td>7</td>\n",
              "    </tr>\n",
              "  </tbody>\n",
              "</table>\n",
              "<p>3005 rows × 6 columns</p>\n",
              "</div>"
            ],
            "text/plain": [
              "      customer_id                    address  ...    country property_valuation\n",
              "18             21            18 Jenna Center  ...  Australia                  7\n",
              "19             24           3 Cordelia Plaza  ...  Australia                 10\n",
              "26             31        2294 Pleasure Place  ...  Australia                 12\n",
              "44             49       3107 Calypso Terrace  ...  Australia                  9\n",
              "60             65          308 Jana Crossing  ...  Australia                 10\n",
              "...           ...                        ...  ...        ...                ...\n",
              "3994         3999            1482 Hauk Trail  ...  Australia                  3\n",
              "3995         4000  57042 Village Green Point  ...  Australia                  6\n",
              "3996         4001     87 Crescent Oaks Alley  ...  Australia                 10\n",
              "3997         4002           8194 Lien Street  ...  Australia                  7\n",
              "3998         4003            320 Acker Drive  ...  Australia                  7\n",
              "\n",
              "[3005 rows x 6 columns]"
            ]
          },
          "metadata": {
            "tags": []
          },
          "execution_count": 21
        }
      ]
    },
    {
      "cell_type": "code",
      "metadata": {
        "colab": {
          "base_uri": "https://localhost:8080/",
          "height": 233
        },
        "id": "JElIvdOo6FZm",
        "outputId": "96f88e87-a72f-4573-ad4d-f10db69f7d6c"
      },
      "source": [
        "CustomerAddress.loc[(df['postcode'] == 2251) & (df['state'] == 'NSW')]"
      ],
      "execution_count": 23,
      "outputs": [
        {
          "output_type": "execute_result",
          "data": {
            "text/html": [
              "<div>\n",
              "<style scoped>\n",
              "    .dataframe tbody tr th:only-of-type {\n",
              "        vertical-align: middle;\n",
              "    }\n",
              "\n",
              "    .dataframe tbody tr th {\n",
              "        vertical-align: top;\n",
              "    }\n",
              "\n",
              "    .dataframe thead th {\n",
              "        text-align: right;\n",
              "    }\n",
              "</style>\n",
              "<table border=\"1\" class=\"dataframe\">\n",
              "  <thead>\n",
              "    <tr style=\"text-align: right;\">\n",
              "      <th></th>\n",
              "      <th>customer_id</th>\n",
              "      <th>address</th>\n",
              "      <th>postcode</th>\n",
              "      <th>state</th>\n",
              "      <th>country</th>\n",
              "      <th>property_valuation</th>\n",
              "    </tr>\n",
              "  </thead>\n",
              "  <tbody>\n",
              "    <tr>\n",
              "      <th>340</th>\n",
              "      <td>345</td>\n",
              "      <td>08 Ronald Regan Plaza</td>\n",
              "      <td>2251</td>\n",
              "      <td>NSW</td>\n",
              "      <td>Australia</td>\n",
              "      <td>9</td>\n",
              "    </tr>\n",
              "    <tr>\n",
              "      <th>1191</th>\n",
              "      <td>1196</td>\n",
              "      <td>894 Maple Wood Drive</td>\n",
              "      <td>2251</td>\n",
              "      <td>NSW</td>\n",
              "      <td>Australia</td>\n",
              "      <td>10</td>\n",
              "    </tr>\n",
              "    <tr>\n",
              "      <th>1492</th>\n",
              "      <td>1497</td>\n",
              "      <td>7049 Sutteridge Lane</td>\n",
              "      <td>2251</td>\n",
              "      <td>NSW</td>\n",
              "      <td>Australia</td>\n",
              "      <td>8</td>\n",
              "    </tr>\n",
              "    <tr>\n",
              "      <th>1576</th>\n",
              "      <td>1581</td>\n",
              "      <td>45314 Pepper Wood Junction</td>\n",
              "      <td>2251</td>\n",
              "      <td>NSW</td>\n",
              "      <td>Australia</td>\n",
              "      <td>6</td>\n",
              "    </tr>\n",
              "    <tr>\n",
              "      <th>1799</th>\n",
              "      <td>1804</td>\n",
              "      <td>3 Mallard Center</td>\n",
              "      <td>2251</td>\n",
              "      <td>NSW</td>\n",
              "      <td>Australia</td>\n",
              "      <td>8</td>\n",
              "    </tr>\n",
              "    <tr>\n",
              "      <th>3998</th>\n",
              "      <td>4003</td>\n",
              "      <td>320 Acker Drive</td>\n",
              "      <td>2251</td>\n",
              "      <td>NSW</td>\n",
              "      <td>Australia</td>\n",
              "      <td>7</td>\n",
              "    </tr>\n",
              "  </tbody>\n",
              "</table>\n",
              "</div>"
            ],
            "text/plain": [
              "      customer_id                     address  ...    country property_valuation\n",
              "340           345       08 Ronald Regan Plaza  ...  Australia                  9\n",
              "1191         1196        894 Maple Wood Drive  ...  Australia                 10\n",
              "1492         1497        7049 Sutteridge Lane  ...  Australia                  8\n",
              "1576         1581  45314 Pepper Wood Junction  ...  Australia                  6\n",
              "1799         1804            3 Mallard Center  ...  Australia                  8\n",
              "3998         4003             320 Acker Drive  ...  Australia                  7\n",
              "\n",
              "[6 rows x 6 columns]"
            ]
          },
          "metadata": {
            "tags": []
          },
          "execution_count": 23
        }
      ]
    },
    {
      "cell_type": "markdown",
      "metadata": {
        "id": "i5JMd5Lg6ckB"
      },
      "source": [
        "For Customer Address table-\n",
        "\n",
        "There is data only for a country- Australia\n",
        "\n",
        "State names are duplicated, data only for 3 states, NSW, Queensland and Victoria\n",
        "\n",
        "Why porperty evaluation is included?\n",
        "\n",
        "3 address are same for different customers for state and postcode"
      ]
    },
    {
      "cell_type": "code",
      "metadata": {
        "id": "ruR98aLj6gHx"
      },
      "source": [
        ""
      ],
      "execution_count": null,
      "outputs": []
    }
  ]
}