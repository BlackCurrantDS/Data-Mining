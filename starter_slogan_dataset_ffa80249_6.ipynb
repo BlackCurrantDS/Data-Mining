{
  "nbformat": 4,
  "nbformat_minor": 0,
  "metadata": {
    "kernelspec": {
      "display_name": "Python 3",
      "language": "python",
      "name": "python3"
    },
    "language_info": {
      "codemirror_mode": {
        "name": "ipython",
        "version": 3
      },
      "file_extension": ".py",
      "mimetype": "text/x-python",
      "name": "python",
      "nbconvert_exporter": "python",
      "pygments_lexer": "ipython3",
      "version": "3.6.6"
    },
    "colab": {
      "name": "starter-slogan-dataset-ffa80249-6.ipynb",
      "provenance": [],
      "include_colab_link": true
    }
  },
  "cells": [
    {
      "cell_type": "markdown",
      "metadata": {
        "id": "view-in-github",
        "colab_type": "text"
      },
      "source": [
        "<a href=\"https://colab.research.google.com/github/BlackCurrantDS/Data-Mining/blob/master/starter_slogan_dataset_ffa80249_6.ipynb\" target=\"_parent\"><img src=\"https://colab.research.google.com/assets/colab-badge.svg\" alt=\"Open In Colab\"/></a>"
      ]
    },
    {
      "cell_type": "markdown",
      "metadata": {
        "id": "9FQQg-cPKqey"
      },
      "source": [
        "## Introduction\n",
        "This notebook explores the slogans data. The dataset is taken from Kaggle-\n",
        "\n",
        "https://www.kaggle.com/kkhandekar/dataanalysis-slogans-270220\n",
        "\n",
        "Few basic questions to be addressed as suggested by the owner of the dataset-\n",
        "\n",
        "What are some of the commonly used words in sticky slogans?\n",
        "\n",
        "1. How many words does a usual slogan have?\n",
        "2. What are some of the commonly used words in sticky slogans?\n",
        "3. What's the secret behind the popular slogans?\n",
        "4. Are there any trends emerging from the slogans?\n",
        "5. Are certain slogans specific to certain industry? Is there any correlation between the two?\n",
        " "
      ]
    },
    {
      "cell_type": "markdown",
      "metadata": {
        "id": "FP5rurjhKqe1"
      },
      "source": [
        "## Exploratory Analysis\n"
      ]
    },
    {
      "cell_type": "code",
      "metadata": {
        "_kg_hide-input": false,
        "id": "4M8PKOAkKqe1"
      },
      "source": [
        "from mpl_toolkits.mplot3d import Axes3D\n",
        "import matplotlib.pyplot as plt # plotting\n",
        "import numpy as np # linear algebra\n",
        "import os # accessing directory structure\n",
        "import pandas as pd # data processing, CSV file I/O (e.g. pd.read_csv)\n",
        "import seaborn as sns"
      ],
      "execution_count": 84,
      "outputs": []
    },
    {
      "cell_type": "markdown",
      "metadata": {
        "id": "5xzcjntKQ8Mp"
      },
      "source": [
        "Getting the data into a dataframe"
      ]
    },
    {
      "cell_type": "code",
      "metadata": {
        "_kg_hide-input": false,
        "colab": {
          "base_uri": "https://localhost:8080/"
        },
        "id": "HLusK9MBKqe5",
        "outputId": "18b5b2c6-132e-4c47-de2d-ec9547fc4053"
      },
      "source": [
        "nRowsRead = None # specify 'None' if want to read whole file\n",
        "# sloganlist.csv may have more rows in reality, but we are only loading/previewing the first 1000 rows\n",
        "df = pd.read_csv('sloganlist.csv', delimiter=',', nrows = nRowsRead)\n",
        "df.dataframeName = 'sloganlist.csv'\n",
        "nRow, nCol = df.shape\n",
        "print(f'There are {nRow} rows and {nCol} columns')"
      ],
      "execution_count": 85,
      "outputs": [
        {
          "output_type": "stream",
          "text": [
            "There are 1162 rows and 2 columns\n"
          ],
          "name": "stdout"
        }
      ]
    },
    {
      "cell_type": "markdown",
      "metadata": {
        "id": "RkUNtKbGKqe5"
      },
      "source": [
        "Let's take a quick look at what the data looks like:"
      ]
    },
    {
      "cell_type": "code",
      "metadata": {
        "_kg_hide-input": false,
        "colab": {
          "base_uri": "https://localhost:8080/",
          "height": 202
        },
        "id": "UiQHFAd3Kqe6",
        "outputId": "5cac4f53-0eed-4a99-bdc0-2275d8142cc4"
      },
      "source": [
        "df.head(5)"
      ],
      "execution_count": 86,
      "outputs": [
        {
          "output_type": "execute_result",
          "data": {
            "text/html": [
              "<div>\n",
              "<style scoped>\n",
              "    .dataframe tbody tr th:only-of-type {\n",
              "        vertical-align: middle;\n",
              "    }\n",
              "\n",
              "    .dataframe tbody tr th {\n",
              "        vertical-align: top;\n",
              "    }\n",
              "\n",
              "    .dataframe thead th {\n",
              "        text-align: right;\n",
              "    }\n",
              "</style>\n",
              "<table border=\"1\" class=\"dataframe\">\n",
              "  <thead>\n",
              "    <tr style=\"text-align: right;\">\n",
              "      <th></th>\n",
              "      <th>Company</th>\n",
              "      <th>Slogan</th>\n",
              "    </tr>\n",
              "  </thead>\n",
              "  <tbody>\n",
              "    <tr>\n",
              "      <th>0</th>\n",
              "      <td>Costa Coffee</td>\n",
              "      <td>For coffee lovers.</td>\n",
              "    </tr>\n",
              "    <tr>\n",
              "      <th>1</th>\n",
              "      <td>Evian</td>\n",
              "      <td>Evian. Live young.</td>\n",
              "    </tr>\n",
              "    <tr>\n",
              "      <th>2</th>\n",
              "      <td>Dasani</td>\n",
              "      <td>Designed to make a difference.</td>\n",
              "    </tr>\n",
              "    <tr>\n",
              "      <th>3</th>\n",
              "      <td>Heineken</td>\n",
              "      <td>It's all about the beer.</td>\n",
              "    </tr>\n",
              "    <tr>\n",
              "      <th>4</th>\n",
              "      <td>Gatorade</td>\n",
              "      <td>The Legend Continues.</td>\n",
              "    </tr>\n",
              "  </tbody>\n",
              "</table>\n",
              "</div>"
            ],
            "text/plain": [
              "        Company                          Slogan\n",
              "0  Costa Coffee              For coffee lovers.\n",
              "1         Evian              Evian. Live young.\n",
              "2        Dasani  Designed to make a difference.\n",
              "3      Heineken        It's all about the beer.\n",
              "4      Gatorade           The Legend Continues."
            ]
          },
          "metadata": {
            "tags": []
          },
          "execution_count": 86
        }
      ]
    },
    {
      "cell_type": "code",
      "metadata": {
        "colab": {
          "base_uri": "https://localhost:8080/"
        },
        "id": "almu_0UbTqNC",
        "outputId": "d27bee8f-12d6-469a-c0c5-336eea4deba5"
      },
      "source": [
        "#checking dataframe information\n",
        "df.info()"
      ],
      "execution_count": 87,
      "outputs": [
        {
          "output_type": "stream",
          "text": [
            "<class 'pandas.core.frame.DataFrame'>\n",
            "RangeIndex: 1162 entries, 0 to 1161\n",
            "Data columns (total 2 columns):\n",
            " #   Column   Non-Null Count  Dtype \n",
            "---  ------   --------------  ----- \n",
            " 0   Company  1162 non-null   object\n",
            " 1   Slogan   1162 non-null   object\n",
            "dtypes: object(2)\n",
            "memory usage: 18.3+ KB\n"
          ],
          "name": "stdout"
        }
      ]
    },
    {
      "cell_type": "markdown",
      "metadata": {
        "id": "hsIPdABVRTvt"
      },
      "source": [
        "Looks like no missing values, let's check duplicates"
      ]
    },
    {
      "cell_type": "code",
      "metadata": {
        "colab": {
          "base_uri": "https://localhost:8080/",
          "height": 432
        },
        "id": "Nsu115_nRZRy",
        "outputId": "19ce426c-7ebc-4cb5-83b8-96a54023b004"
      },
      "source": [
        "duplicate = df[df.duplicated('Company')]\n",
        "  \n",
        "print(\"Duplicate Rows :\")\n",
        "\n",
        "duplicate"
      ],
      "execution_count": 88,
      "outputs": [
        {
          "output_type": "stream",
          "text": [
            "Duplicate Rows :\n"
          ],
          "name": "stdout"
        },
        {
          "output_type": "execute_result",
          "data": {
            "text/html": [
              "<div>\n",
              "<style scoped>\n",
              "    .dataframe tbody tr th:only-of-type {\n",
              "        vertical-align: middle;\n",
              "    }\n",
              "\n",
              "    .dataframe tbody tr th {\n",
              "        vertical-align: top;\n",
              "    }\n",
              "\n",
              "    .dataframe thead th {\n",
              "        text-align: right;\n",
              "    }\n",
              "</style>\n",
              "<table border=\"1\" class=\"dataframe\">\n",
              "  <thead>\n",
              "    <tr style=\"text-align: right;\">\n",
              "      <th></th>\n",
              "      <th>Company</th>\n",
              "      <th>Slogan</th>\n",
              "    </tr>\n",
              "  </thead>\n",
              "  <tbody>\n",
              "    <tr>\n",
              "      <th>26</th>\n",
              "      <td>Heineken</td>\n",
              "      <td>It's all about the beer.</td>\n",
              "    </tr>\n",
              "    <tr>\n",
              "      <th>27</th>\n",
              "      <td>Gatorade</td>\n",
              "      <td>The Legend Continues.</td>\n",
              "    </tr>\n",
              "    <tr>\n",
              "      <th>60</th>\n",
              "      <td>Colgate</td>\n",
              "      <td>Stronger, healthier gums.</td>\n",
              "    </tr>\n",
              "    <tr>\n",
              "      <th>61</th>\n",
              "      <td>Fanta</td>\n",
              "      <td>Drink Fanta, stay Bamboocha.</td>\n",
              "    </tr>\n",
              "    <tr>\n",
              "      <th>62</th>\n",
              "      <td>Pizza Hut</td>\n",
              "      <td>Make it great.</td>\n",
              "    </tr>\n",
              "    <tr>\n",
              "      <th>...</th>\n",
              "      <td>...</td>\n",
              "      <td>...</td>\n",
              "    </tr>\n",
              "    <tr>\n",
              "      <th>1157</th>\n",
              "      <td>Levi's Jeans</td>\n",
              "      <td>Original jeans. original people.</td>\n",
              "    </tr>\n",
              "    <tr>\n",
              "      <th>1158</th>\n",
              "      <td>Dove (toiletries)</td>\n",
              "      <td>The secret of beautiful hair.</td>\n",
              "    </tr>\n",
              "    <tr>\n",
              "      <th>1159</th>\n",
              "      <td>Lipton</td>\n",
              "      <td>Be more tea.</td>\n",
              "    </tr>\n",
              "    <tr>\n",
              "      <th>1160</th>\n",
              "      <td>Pampers</td>\n",
              "      <td>Discover your babyâs world.</td>\n",
              "    </tr>\n",
              "    <tr>\n",
              "      <th>1161</th>\n",
              "      <td>Coca-Cola</td>\n",
              "      <td>Taste The Feeling.</td>\n",
              "    </tr>\n",
              "  </tbody>\n",
              "</table>\n",
              "<p>593 rows × 2 columns</p>\n",
              "</div>"
            ],
            "text/plain": [
              "                Company                            Slogan\n",
              "26             Heineken          It's all about the beer.\n",
              "27             Gatorade             The Legend Continues.\n",
              "60              Colgate         Stronger, healthier gums.\n",
              "61                Fanta      Drink Fanta, stay Bamboocha.\n",
              "62            Pizza Hut                    Make it great.\n",
              "...                 ...                               ...\n",
              "1157       Levi's Jeans  Original jeans. original people.\n",
              "1158  Dove (toiletries)     The secret of beautiful hair.\n",
              "1159             Lipton                      Be more tea.\n",
              "1160            Pampers     Discover your babyâs world.\n",
              "1161          Coca-Cola                Taste The Feeling.\n",
              "\n",
              "[593 rows x 2 columns]"
            ]
          },
          "metadata": {
            "tags": []
          },
          "execution_count": 88
        }
      ]
    },
    {
      "cell_type": "code",
      "metadata": {
        "colab": {
          "base_uri": "https://localhost:8080/",
          "height": 971
        },
        "id": "fSIMnQSoSTd8",
        "outputId": "b8d779f4-a722-4bf0-c17b-c1608838bcda"
      },
      "source": [
        "df.loc[df['Company'] == 'Colgate']"
      ],
      "execution_count": 89,
      "outputs": [
        {
          "output_type": "execute_result",
          "data": {
            "text/html": [
              "<div>\n",
              "<style scoped>\n",
              "    .dataframe tbody tr th:only-of-type {\n",
              "        vertical-align: middle;\n",
              "    }\n",
              "\n",
              "    .dataframe tbody tr th {\n",
              "        vertical-align: top;\n",
              "    }\n",
              "\n",
              "    .dataframe thead th {\n",
              "        text-align: right;\n",
              "    }\n",
              "</style>\n",
              "<table border=\"1\" class=\"dataframe\">\n",
              "  <thead>\n",
              "    <tr style=\"text-align: right;\">\n",
              "      <th></th>\n",
              "      <th>Company</th>\n",
              "      <th>Slogan</th>\n",
              "    </tr>\n",
              "  </thead>\n",
              "  <tbody>\n",
              "    <tr>\n",
              "      <th>20</th>\n",
              "      <td>Colgate</td>\n",
              "      <td>Stronger, healthier gums.</td>\n",
              "    </tr>\n",
              "    <tr>\n",
              "      <th>60</th>\n",
              "      <td>Colgate</td>\n",
              "      <td>Stronger, healthier gums.</td>\n",
              "    </tr>\n",
              "    <tr>\n",
              "      <th>100</th>\n",
              "      <td>Colgate</td>\n",
              "      <td>Stronger, healthier gums.</td>\n",
              "    </tr>\n",
              "    <tr>\n",
              "      <th>140</th>\n",
              "      <td>Colgate</td>\n",
              "      <td>Stronger, healthier gums.</td>\n",
              "    </tr>\n",
              "    <tr>\n",
              "      <th>180</th>\n",
              "      <td>Colgate</td>\n",
              "      <td>Stronger, healthier gums.</td>\n",
              "    </tr>\n",
              "    <tr>\n",
              "      <th>220</th>\n",
              "      <td>Colgate</td>\n",
              "      <td>Stronger, healthier gums.</td>\n",
              "    </tr>\n",
              "    <tr>\n",
              "      <th>260</th>\n",
              "      <td>Colgate</td>\n",
              "      <td>Stronger, healthier gums.</td>\n",
              "    </tr>\n",
              "    <tr>\n",
              "      <th>300</th>\n",
              "      <td>Colgate</td>\n",
              "      <td>Stronger, healthier gums.</td>\n",
              "    </tr>\n",
              "    <tr>\n",
              "      <th>340</th>\n",
              "      <td>Colgate</td>\n",
              "      <td>Stronger, healthier gums.</td>\n",
              "    </tr>\n",
              "    <tr>\n",
              "      <th>380</th>\n",
              "      <td>Colgate</td>\n",
              "      <td>Stronger, healthier gums.</td>\n",
              "    </tr>\n",
              "    <tr>\n",
              "      <th>421</th>\n",
              "      <td>Colgate</td>\n",
              "      <td>Stronger, healthier gums.</td>\n",
              "    </tr>\n",
              "    <tr>\n",
              "      <th>461</th>\n",
              "      <td>Colgate</td>\n",
              "      <td>Stronger, healthier gums.</td>\n",
              "    </tr>\n",
              "    <tr>\n",
              "      <th>501</th>\n",
              "      <td>Colgate</td>\n",
              "      <td>Stronger, healthier gums.</td>\n",
              "    </tr>\n",
              "    <tr>\n",
              "      <th>541</th>\n",
              "      <td>Colgate</td>\n",
              "      <td>Stronger, healthier gums.</td>\n",
              "    </tr>\n",
              "    <tr>\n",
              "      <th>562</th>\n",
              "      <td>Colgate</td>\n",
              "      <td>Stronger, healthier gums.</td>\n",
              "    </tr>\n",
              "    <tr>\n",
              "      <th>602</th>\n",
              "      <td>Colgate</td>\n",
              "      <td>Stronger, healthier gums.</td>\n",
              "    </tr>\n",
              "    <tr>\n",
              "      <th>642</th>\n",
              "      <td>Colgate</td>\n",
              "      <td>Stronger, healthier gums.</td>\n",
              "    </tr>\n",
              "    <tr>\n",
              "      <th>682</th>\n",
              "      <td>Colgate</td>\n",
              "      <td>Stronger, healthier gums.</td>\n",
              "    </tr>\n",
              "    <tr>\n",
              "      <th>722</th>\n",
              "      <td>Colgate</td>\n",
              "      <td>Stronger, healthier gums.</td>\n",
              "    </tr>\n",
              "    <tr>\n",
              "      <th>762</th>\n",
              "      <td>Colgate</td>\n",
              "      <td>Stronger, healthier gums.</td>\n",
              "    </tr>\n",
              "    <tr>\n",
              "      <th>802</th>\n",
              "      <td>Colgate</td>\n",
              "      <td>Stronger, healthier gums.</td>\n",
              "    </tr>\n",
              "    <tr>\n",
              "      <th>842</th>\n",
              "      <td>Colgate</td>\n",
              "      <td>Stronger, healthier gums.</td>\n",
              "    </tr>\n",
              "    <tr>\n",
              "      <th>882</th>\n",
              "      <td>Colgate</td>\n",
              "      <td>Stronger, healthier gums.</td>\n",
              "    </tr>\n",
              "    <tr>\n",
              "      <th>922</th>\n",
              "      <td>Colgate</td>\n",
              "      <td>Stronger, healthier gums.</td>\n",
              "    </tr>\n",
              "    <tr>\n",
              "      <th>947</th>\n",
              "      <td>Colgate</td>\n",
              "      <td>Stronger, healthier gums.</td>\n",
              "    </tr>\n",
              "    <tr>\n",
              "      <th>987</th>\n",
              "      <td>Colgate</td>\n",
              "      <td>Stronger, healthier gums.</td>\n",
              "    </tr>\n",
              "    <tr>\n",
              "      <th>1027</th>\n",
              "      <td>Colgate</td>\n",
              "      <td>Stronger, healthier gums.</td>\n",
              "    </tr>\n",
              "    <tr>\n",
              "      <th>1067</th>\n",
              "      <td>Colgate</td>\n",
              "      <td>Stronger, healthier gums.</td>\n",
              "    </tr>\n",
              "    <tr>\n",
              "      <th>1107</th>\n",
              "      <td>Colgate</td>\n",
              "      <td>Stronger, healthier gums.</td>\n",
              "    </tr>\n",
              "    <tr>\n",
              "      <th>1143</th>\n",
              "      <td>Colgate</td>\n",
              "      <td>Stronger, healthier gums.</td>\n",
              "    </tr>\n",
              "  </tbody>\n",
              "</table>\n",
              "</div>"
            ],
            "text/plain": [
              "      Company                     Slogan\n",
              "20    Colgate  Stronger, healthier gums.\n",
              "60    Colgate  Stronger, healthier gums.\n",
              "100   Colgate  Stronger, healthier gums.\n",
              "140   Colgate  Stronger, healthier gums.\n",
              "180   Colgate  Stronger, healthier gums.\n",
              "220   Colgate  Stronger, healthier gums.\n",
              "260   Colgate  Stronger, healthier gums.\n",
              "300   Colgate  Stronger, healthier gums.\n",
              "340   Colgate  Stronger, healthier gums.\n",
              "380   Colgate  Stronger, healthier gums.\n",
              "421   Colgate  Stronger, healthier gums.\n",
              "461   Colgate  Stronger, healthier gums.\n",
              "501   Colgate  Stronger, healthier gums.\n",
              "541   Colgate  Stronger, healthier gums.\n",
              "562   Colgate  Stronger, healthier gums.\n",
              "602   Colgate  Stronger, healthier gums.\n",
              "642   Colgate  Stronger, healthier gums.\n",
              "682   Colgate  Stronger, healthier gums.\n",
              "722   Colgate  Stronger, healthier gums.\n",
              "762   Colgate  Stronger, healthier gums.\n",
              "802   Colgate  Stronger, healthier gums.\n",
              "842   Colgate  Stronger, healthier gums.\n",
              "882   Colgate  Stronger, healthier gums.\n",
              "922   Colgate  Stronger, healthier gums.\n",
              "947   Colgate  Stronger, healthier gums.\n",
              "987   Colgate  Stronger, healthier gums.\n",
              "1027  Colgate  Stronger, healthier gums.\n",
              "1067  Colgate  Stronger, healthier gums.\n",
              "1107  Colgate  Stronger, healthier gums.\n",
              "1143  Colgate  Stronger, healthier gums."
            ]
          },
          "metadata": {
            "tags": []
          },
          "execution_count": 89
        }
      ]
    },
    {
      "cell_type": "markdown",
      "metadata": {
        "id": "zH9mqztRTLPm"
      },
      "source": [
        "Looks like a lots of classic duplicates, lets remove all such cases"
      ]
    },
    {
      "cell_type": "code",
      "metadata": {
        "id": "bRQ-5bHNTKd8"
      },
      "source": [
        "df = df.drop_duplicates(keep=False)"
      ],
      "execution_count": 90,
      "outputs": []
    },
    {
      "cell_type": "code",
      "metadata": {
        "colab": {
          "base_uri": "https://localhost:8080/"
        },
        "id": "z_PkpCP9UJ-C",
        "outputId": "cdfeee78-7b59-4a47-918f-c42077579525"
      },
      "source": [
        "df.info()"
      ],
      "execution_count": 91,
      "outputs": [
        {
          "output_type": "stream",
          "text": [
            "<class 'pandas.core.frame.DataFrame'>\n",
            "Int64Index: 549 entries, 0 to 1141\n",
            "Data columns (total 2 columns):\n",
            " #   Column   Non-Null Count  Dtype \n",
            "---  ------   --------------  ----- \n",
            " 0   Company  549 non-null    object\n",
            " 1   Slogan   549 non-null    object\n",
            "dtypes: object(2)\n",
            "memory usage: 12.9+ KB\n"
          ],
          "name": "stdout"
        }
      ]
    },
    {
      "cell_type": "markdown",
      "metadata": {
        "id": "Y3fKCGwBUSYK"
      },
      "source": [
        "that's almost half the rows!"
      ]
    },
    {
      "cell_type": "code",
      "metadata": {
        "colab": {
          "base_uri": "https://localhost:8080/",
          "height": 202
        },
        "id": "WNw56F1gUOAU",
        "outputId": "e0811289-187e-4ec6-f1a2-d2a757712d37"
      },
      "source": [
        "df.head(5)"
      ],
      "execution_count": 92,
      "outputs": [
        {
          "output_type": "execute_result",
          "data": {
            "text/html": [
              "<div>\n",
              "<style scoped>\n",
              "    .dataframe tbody tr th:only-of-type {\n",
              "        vertical-align: middle;\n",
              "    }\n",
              "\n",
              "    .dataframe tbody tr th {\n",
              "        vertical-align: top;\n",
              "    }\n",
              "\n",
              "    .dataframe thead th {\n",
              "        text-align: right;\n",
              "    }\n",
              "</style>\n",
              "<table border=\"1\" class=\"dataframe\">\n",
              "  <thead>\n",
              "    <tr style=\"text-align: right;\">\n",
              "      <th></th>\n",
              "      <th>Company</th>\n",
              "      <th>Slogan</th>\n",
              "    </tr>\n",
              "  </thead>\n",
              "  <tbody>\n",
              "    <tr>\n",
              "      <th>0</th>\n",
              "      <td>Costa Coffee</td>\n",
              "      <td>For coffee lovers.</td>\n",
              "    </tr>\n",
              "    <tr>\n",
              "      <th>1</th>\n",
              "      <td>Evian</td>\n",
              "      <td>Evian. Live young.</td>\n",
              "    </tr>\n",
              "    <tr>\n",
              "      <th>2</th>\n",
              "      <td>Dasani</td>\n",
              "      <td>Designed to make a difference.</td>\n",
              "    </tr>\n",
              "    <tr>\n",
              "      <th>5</th>\n",
              "      <td>TÃ­o Pepe</td>\n",
              "      <td>Good food tastes better after a glass of Tio Pepe</td>\n",
              "    </tr>\n",
              "    <tr>\n",
              "      <th>6</th>\n",
              "      <td>Tetley's Brewery</td>\n",
              "      <td>Don't Do Things By Halves.</td>\n",
              "    </tr>\n",
              "  </tbody>\n",
              "</table>\n",
              "</div>"
            ],
            "text/plain": [
              "            Company                                             Slogan\n",
              "0      Costa Coffee                                 For coffee lovers.\n",
              "1             Evian                                 Evian. Live young.\n",
              "2            Dasani                     Designed to make a difference.\n",
              "5         TÃ­o Pepe  Good food tastes better after a glass of Tio Pepe\n",
              "6  Tetley's Brewery                         Don't Do Things By Halves."
            ]
          },
          "metadata": {
            "tags": []
          },
          "execution_count": 92
        }
      ]
    },
    {
      "cell_type": "markdown",
      "metadata": {
        "id": "Qv8qnlRcUs-o"
      },
      "source": [
        "Is there are more than one slogan for a company?\n",
        "\n",
        "Is there same slogan for two companies?"
      ]
    },
    {
      "cell_type": "code",
      "metadata": {
        "colab": {
          "base_uri": "https://localhost:8080/",
          "height": 65
        },
        "id": "tSnnQhEqUdtJ",
        "outputId": "8850fad0-27b6-4d33-ed3d-6b3cc696604d"
      },
      "source": [
        "# on 'Company' column\n",
        "duplicate = df[df.duplicated('Company')]\n",
        "  \n",
        "print(\"Duplicate Rows based on Company :\")\n",
        "duplicate "
      ],
      "execution_count": 93,
      "outputs": [
        {
          "output_type": "stream",
          "text": [
            "Duplicate Rows based on Company :\n"
          ],
          "name": "stdout"
        },
        {
          "output_type": "execute_result",
          "data": {
            "text/html": [
              "<div>\n",
              "<style scoped>\n",
              "    .dataframe tbody tr th:only-of-type {\n",
              "        vertical-align: middle;\n",
              "    }\n",
              "\n",
              "    .dataframe tbody tr th {\n",
              "        vertical-align: top;\n",
              "    }\n",
              "\n",
              "    .dataframe thead th {\n",
              "        text-align: right;\n",
              "    }\n",
              "</style>\n",
              "<table border=\"1\" class=\"dataframe\">\n",
              "  <thead>\n",
              "    <tr style=\"text-align: right;\">\n",
              "      <th></th>\n",
              "      <th>Company</th>\n",
              "      <th>Slogan</th>\n",
              "    </tr>\n",
              "  </thead>\n",
              "  <tbody>\n",
              "  </tbody>\n",
              "</table>\n",
              "</div>"
            ],
            "text/plain": [
              "Empty DataFrame\n",
              "Columns: [Company, Slogan]\n",
              "Index: []"
            ]
          },
          "metadata": {
            "tags": []
          },
          "execution_count": 93
        }
      ]
    },
    {
      "cell_type": "code",
      "metadata": {
        "colab": {
          "base_uri": "https://localhost:8080/",
          "height": 96
        },
        "id": "NA9msSufVYEV",
        "outputId": "a00f8591-a9b2-41ef-8172-6633d8c26c2e"
      },
      "source": [
        "# on 'Slogan' column\n",
        "duplicate = df[df.duplicated('Slogan')]\n",
        "  \n",
        "print(\"Duplicate Rows based on Slogan :\")\n",
        "duplicate "
      ],
      "execution_count": 94,
      "outputs": [
        {
          "output_type": "stream",
          "text": [
            "Duplicate Rows based on Slogan :\n"
          ],
          "name": "stdout"
        },
        {
          "output_type": "execute_result",
          "data": {
            "text/html": [
              "<div>\n",
              "<style scoped>\n",
              "    .dataframe tbody tr th:only-of-type {\n",
              "        vertical-align: middle;\n",
              "    }\n",
              "\n",
              "    .dataframe tbody tr th {\n",
              "        vertical-align: top;\n",
              "    }\n",
              "\n",
              "    .dataframe thead th {\n",
              "        text-align: right;\n",
              "    }\n",
              "</style>\n",
              "<table border=\"1\" class=\"dataframe\">\n",
              "  <thead>\n",
              "    <tr style=\"text-align: right;\">\n",
              "      <th></th>\n",
              "      <th>Company</th>\n",
              "      <th>Slogan</th>\n",
              "    </tr>\n",
              "  </thead>\n",
              "  <tbody>\n",
              "    <tr>\n",
              "      <th>448</th>\n",
              "      <td>Stolichnaya vodka</td>\n",
              "      <td>Exquisite wodka.</td>\n",
              "    </tr>\n",
              "  </tbody>\n",
              "</table>\n",
              "</div>"
            ],
            "text/plain": [
              "               Company            Slogan\n",
              "448  Stolichnaya vodka  Exquisite wodka."
            ]
          },
          "metadata": {
            "tags": []
          },
          "execution_count": 94
        }
      ]
    },
    {
      "cell_type": "code",
      "metadata": {
        "colab": {
          "base_uri": "https://localhost:8080/",
          "height": 110
        },
        "id": "i0FZ9BOsVfJe",
        "outputId": "8fe5ef86-7fe5-4c3b-c044-f31b376936cb"
      },
      "source": [
        "df.loc[df['Slogan'] == 'Exquisite wodka.']"
      ],
      "execution_count": 95,
      "outputs": [
        {
          "output_type": "execute_result",
          "data": {
            "text/html": [
              "<div>\n",
              "<style scoped>\n",
              "    .dataframe tbody tr th:only-of-type {\n",
              "        vertical-align: middle;\n",
              "    }\n",
              "\n",
              "    .dataframe tbody tr th {\n",
              "        vertical-align: top;\n",
              "    }\n",
              "\n",
              "    .dataframe thead th {\n",
              "        text-align: right;\n",
              "    }\n",
              "</style>\n",
              "<table border=\"1\" class=\"dataframe\">\n",
              "  <thead>\n",
              "    <tr style=\"text-align: right;\">\n",
              "      <th></th>\n",
              "      <th>Company</th>\n",
              "      <th>Slogan</th>\n",
              "    </tr>\n",
              "  </thead>\n",
              "  <tbody>\n",
              "    <tr>\n",
              "      <th>334</th>\n",
              "      <td>Wyborowa Vodka</td>\n",
              "      <td>Exquisite wodka.</td>\n",
              "    </tr>\n",
              "    <tr>\n",
              "      <th>448</th>\n",
              "      <td>Stolichnaya vodka</td>\n",
              "      <td>Exquisite wodka.</td>\n",
              "    </tr>\n",
              "  </tbody>\n",
              "</table>\n",
              "</div>"
            ],
            "text/plain": [
              "               Company            Slogan\n",
              "334     Wyborowa Vodka  Exquisite wodka.\n",
              "448  Stolichnaya vodka  Exquisite wodka."
            ]
          },
          "metadata": {
            "tags": []
          },
          "execution_count": 95
        }
      ]
    },
    {
      "cell_type": "markdown",
      "metadata": {
        "id": "v75-M9tkVoNr"
      },
      "source": [
        "Well, which one to keep? Since, I have no idea about the alcohols and google isn't much help. I am dropping both the rows. Normally, Would ask someone else or report it be inconsistent or of both are same, update it."
      ]
    },
    {
      "cell_type": "code",
      "metadata": {
        "id": "fHeLWpqaVnm2"
      },
      "source": [
        "df = df[df.Slogan != \"Exquisite wodka.\"]"
      ],
      "execution_count": 96,
      "outputs": []
    },
    {
      "cell_type": "markdown",
      "metadata": {
        "id": "Wghc5BhUXUA4"
      },
      "source": [
        "Well, Now let's find out for each company how long a slogan is.\n",
        "\n",
        "For that, count the number of words in a slogan."
      ]
    },
    {
      "cell_type": "code",
      "metadata": {
        "id": "OWxZG6DHXeTw"
      },
      "source": [
        "#keep the number of wrods in a column\n",
        "\n",
        "df['Number_of_words'] =  df['Slogan'].apply(lambda x: len(x.split()))"
      ],
      "execution_count": 97,
      "outputs": []
    },
    {
      "cell_type": "code",
      "metadata": {
        "colab": {
          "base_uri": "https://localhost:8080/",
          "height": 202
        },
        "id": "PCmjlMpDYurs",
        "outputId": "c3b21e1b-65af-4e63-88b9-036eb10d6afb"
      },
      "source": [
        "df.head(5)"
      ],
      "execution_count": 98,
      "outputs": [
        {
          "output_type": "execute_result",
          "data": {
            "text/html": [
              "<div>\n",
              "<style scoped>\n",
              "    .dataframe tbody tr th:only-of-type {\n",
              "        vertical-align: middle;\n",
              "    }\n",
              "\n",
              "    .dataframe tbody tr th {\n",
              "        vertical-align: top;\n",
              "    }\n",
              "\n",
              "    .dataframe thead th {\n",
              "        text-align: right;\n",
              "    }\n",
              "</style>\n",
              "<table border=\"1\" class=\"dataframe\">\n",
              "  <thead>\n",
              "    <tr style=\"text-align: right;\">\n",
              "      <th></th>\n",
              "      <th>Company</th>\n",
              "      <th>Slogan</th>\n",
              "      <th>Number_of_words</th>\n",
              "    </tr>\n",
              "  </thead>\n",
              "  <tbody>\n",
              "    <tr>\n",
              "      <th>0</th>\n",
              "      <td>Costa Coffee</td>\n",
              "      <td>For coffee lovers.</td>\n",
              "      <td>3</td>\n",
              "    </tr>\n",
              "    <tr>\n",
              "      <th>1</th>\n",
              "      <td>Evian</td>\n",
              "      <td>Evian. Live young.</td>\n",
              "      <td>3</td>\n",
              "    </tr>\n",
              "    <tr>\n",
              "      <th>2</th>\n",
              "      <td>Dasani</td>\n",
              "      <td>Designed to make a difference.</td>\n",
              "      <td>5</td>\n",
              "    </tr>\n",
              "    <tr>\n",
              "      <th>5</th>\n",
              "      <td>TÃ­o Pepe</td>\n",
              "      <td>Good food tastes better after a glass of Tio Pepe</td>\n",
              "      <td>10</td>\n",
              "    </tr>\n",
              "    <tr>\n",
              "      <th>6</th>\n",
              "      <td>Tetley's Brewery</td>\n",
              "      <td>Don't Do Things By Halves.</td>\n",
              "      <td>5</td>\n",
              "    </tr>\n",
              "  </tbody>\n",
              "</table>\n",
              "</div>"
            ],
            "text/plain": [
              "            Company  ... Number_of_words\n",
              "0      Costa Coffee  ...               3\n",
              "1             Evian  ...               3\n",
              "2            Dasani  ...               5\n",
              "5         TÃ­o Pepe  ...              10\n",
              "6  Tetley's Brewery  ...               5\n",
              "\n",
              "[5 rows x 3 columns]"
            ]
          },
          "metadata": {
            "tags": []
          },
          "execution_count": 98
        }
      ]
    },
    {
      "cell_type": "markdown",
      "metadata": {
        "id": "5AiwdEw7Y0Vp"
      },
      "source": [
        "Let's first see the range of number of words"
      ]
    },
    {
      "cell_type": "code",
      "metadata": {
        "colab": {
          "base_uri": "https://localhost:8080/"
        },
        "id": "XO0J1yfLY4uo",
        "outputId": "38341d7c-18d4-4055-f386-8027be515ea8"
      },
      "source": [
        "df['Number_of_words'].describe()"
      ],
      "execution_count": 99,
      "outputs": [
        {
          "output_type": "execute_result",
          "data": {
            "text/plain": [
              "count    547.000000\n",
              "mean       4.170018\n",
              "std        1.483232\n",
              "min        2.000000\n",
              "25%        3.000000\n",
              "50%        4.000000\n",
              "75%        5.000000\n",
              "max       10.000000\n",
              "Name: Number_of_words, dtype: float64"
            ]
          },
          "metadata": {
            "tags": []
          },
          "execution_count": 99
        }
      ]
    },
    {
      "cell_type": "markdown",
      "metadata": {
        "id": "mOgsPf1OZj84"
      },
      "source": [
        "Longest slogan has 10 words and shortest has 2. \n",
        "\n",
        "On average there are 4 words in a slogan.\n",
        "\n",
        "Most slogans have 3-5 words."
      ]
    },
    {
      "cell_type": "code",
      "metadata": {
        "colab": {
          "base_uri": "https://localhost:8080/",
          "height": 296
        },
        "id": "kal9Q4DWZtcj",
        "outputId": "6165819e-539f-4aac-c4e4-6a0194779f10"
      },
      "source": [
        "ax = sns.boxplot(x=df[\"Number_of_words\"]).set_title('Number of words in a slogan')"
      ],
      "execution_count": 100,
      "outputs": [
        {
          "output_type": "display_data",
          "data": {
            "image/png": "[encoded data removed]",
            "text/plain": [
              "<Figure size 432x288 with 1 Axes>"
            ]
          },
          "metadata": {
            "tags": [],
            "needs_background": "light"
          }
        }
      ]
    },
    {
      "cell_type": "markdown",
      "metadata": {
        "id": "uja4nvfGcF_I"
      },
      "source": [
        "Boxplot shows that slogans with 9 and 10 words are rare."
      ]
    },
    {
      "cell_type": "markdown",
      "metadata": {
        "id": "Oy1HNsoJc9p5"
      },
      "source": [
        "Let's see some common words in a slogan. This can be tricky because slogans are from various domains.\n",
        "\n",
        "For starters let's see most common words with a word cloud."
      ]
    },
    {
      "cell_type": "code",
      "metadata": {
        "id": "CPTnp6sZe2Ow"
      },
      "source": [
        "from wordcloud import WordCloud, STOPWORDS"
      ],
      "execution_count": 101,
      "outputs": []
    },
    {
      "cell_type": "code",
      "metadata": {
        "colab": {
          "base_uri": "https://localhost:8080/",
          "height": 248
        },
        "id": "S0tjF_HsdIEx",
        "outputId": "e77eda06-c23b-49c9-afc4-f8245db4fbf8"
      },
      "source": [
        "#getting stops words like is, are am etc.\n",
        "stopwords = set(STOPWORDS)\n",
        "\n",
        "#reading all the slogans into a single file\n",
        "text = df['Slogan'].values \n",
        "\n",
        "wordcloud = WordCloud(stopwords = stopwords,colormap=\"ocean\",width = 1600, height = 1600).generate(str(text))\n",
        "\n",
        "plt.imshow(wordcloud)\n",
        "plt.axis(\"off\")\n",
        "plt.show()"
      ],
      "execution_count": 102,
      "outputs": [
        {
          "output_type": "display_data",
          "data": {
            "image/png": "[encoded data removed]",
            "text/plain": [
              "<Figure size 432x288 with 1 Axes>"
            ]
          },
          "metadata": {
            "tags": [],
            "needs_background": "light"
          }
        }
      ]
    },
    {
      "cell_type": "markdown",
      "metadata": {
        "id": "_BBQQB5CgTKN"
      },
      "source": [
        "Words like, Make, Good, better, great,best happy,love, fun makes sense.\n",
        "\n",
        "Lets find it in a list with frequencies"
      ]
    },
    {
      "cell_type": "code",
      "metadata": {
        "id": "CM7WiHruhIkE"
      },
      "source": [
        "import collections"
      ],
      "execution_count": 103,
      "outputs": []
    },
    {
      "cell_type": "code",
      "metadata": {
        "id": "3JpeMf4gg-z1"
      },
      "source": [
        "#updating stop word list\n",
        "#stopwords = stopwords.union(set(['the','it','a'])) #not updating it as of now\n",
        "\n",
        "\n",
        "#get all the slogans\n",
        "raw = df['Slogan'].values \n",
        "\n",
        "wordcount = {}\n",
        "\n",
        "for word in str(raw).lower().split():\n",
        "    word = word.replace(\".\",\"\")\n",
        "    word = word.replace(\",\",\"\")\n",
        "    word = word.replace(\"'\",\"\")\n",
        "    word = word.replace(\":\",\"\")\n",
        "    word = word.replace(\"\\\"\",\"\")\n",
        "    word = word.replace(\"!\",\"\")\n",
        "    word = word.replace(\"*\",\"\")\n",
        "    if word not in stopwords:\n",
        "        if word not in wordcount:\n",
        "            wordcount[word] = 1\n",
        "        else:\n",
        "            wordcount[word] += 1\n"
      ],
      "execution_count": 104,
      "outputs": []
    },
    {
      "cell_type": "code",
      "metadata": {
        "colab": {
          "base_uri": "https://localhost:8080/"
        },
        "id": "16sj2ApTiBUE",
        "outputId": "068a9c62-e820-4c76-a82c-4297092a0dc9"
      },
      "source": [
        "# Print 3 most common word\n",
        "word_counter = collections.Counter(wordcount)\n",
        "for word, count in word_counter.most_common(3):\n",
        "    print(word, \": \", count)"
      ],
      "execution_count": 108,
      "outputs": [
        {
          "output_type": "stream",
          "text": [
            "good :  30\n",
            "taste :  22\n",
            "better :  20\n"
          ],
          "name": "stdout"
        }
      ]
    },
    {
      "cell_type": "code",
      "metadata": {
        "colab": {
          "base_uri": "https://localhost:8080/",
          "height": 297
        },
        "id": "EjyTRZbYtPTn",
        "outputId": "bea022a9-ed7c-4e43-e5b3-c9e77c83ecdf"
      },
      "source": [
        "#plottting 20 most commons\n",
        "lst = word_counter.most_common(20)\n",
        "df_word_count = pd.DataFrame(lst, columns = ['Word', 'Count'])\n",
        "ax = sns.barplot(x=\"Word\", y=\"Count\", data=df_word_count)\n",
        "ax.set_xticklabels(ax.get_xticklabels(), rotation=40, ha=\"right\")\n",
        "ax.set_title('20 Most Common words in All Slogans')\n",
        "plt.tight_layout()\n",
        "plt.show()"
      ],
      "execution_count": 106,
      "outputs": [
        {
          "output_type": "display_data",
          "data": {
            "image/png": "[encoded data removed]",
            "text/plain": [
              "<Figure size 432x288 with 1 Axes>"
            ]
          },
          "metadata": {
            "tags": [],
            "needs_background": "light"
          }
        }
      ]
    },
    {
      "cell_type": "markdown",
      "metadata": {
        "id": "22nO3lrdvCGF"
      },
      "source": [
        "Looks like every company is trying to \"Good\" very often!"
      ]
    },
    {
      "cell_type": "markdown",
      "metadata": {
        "id": "cc6ymxjo1AtM"
      },
      "source": [
        "Let's look at the sentiments of the slogans. We assume its going to be positive since there are good, better and best etc words are very frequent.let's see Vadar sentiments agrees or not."
      ]
    },
    {
      "cell_type": "code",
      "metadata": {
        "colab": {
          "base_uri": "https://localhost:8080/"
        },
        "id": "kJz7g31Z1deR",
        "outputId": "1ecb8ce5-7e36-4706-8740-f1d76b04fe12"
      },
      "source": [
        "pip install vaderSentiment"
      ],
      "execution_count": 112,
      "outputs": [
        {
          "output_type": "stream",
          "text": [
            "Collecting vaderSentiment\n",
            "\u001b[?25l  Downloading https://files.pythonhosted.org/packages/76/fc/310e16254683c1ed35eeb97386986d6c00bc29df17ce280aed64d55537e9/vaderSentiment-3.3.2-py2.py3-none-any.whl (125kB)\n",
            "\r\u001b[K     |██▋                             | 10kB 9.7MB/s eta 0:00:01\r\u001b[K     |█████▏                          | 20kB 12.3MB/s eta 0:00:01\r\u001b[K     |███████▉                        | 30kB 13.8MB/s eta 0:00:01\r\u001b[K     |██████████▍                     | 40kB 13.1MB/s eta 0:00:01\r\u001b[K     |█████████████                   | 51kB 14.4MB/s eta 0:00:01\r\u001b[K     |███████████████▋                | 61kB 11.9MB/s eta 0:00:01\r\u001b[K     |██████████████████▏             | 71kB 10.5MB/s eta 0:00:01\r\u001b[K     |████████████████████▉           | 81kB 11.1MB/s eta 0:00:01\r\u001b[K     |███████████████████████▍        | 92kB 12.1MB/s eta 0:00:01\r\u001b[K     |██████████████████████████      | 102kB 10.2MB/s eta 0:00:01\r\u001b[K     |████████████████████████████▋   | 112kB 10.2MB/s eta 0:00:01\r\u001b[K     |███████████████████████████████▏| 122kB 10.2MB/s eta 0:00:01\r\u001b[K     |████████████████████████████████| 133kB 10.2MB/s \n",
            "\u001b[?25hRequirement already satisfied: requests in /usr/local/lib/python3.7/dist-packages (from vaderSentiment) (2.23.0)\n",
            "Requirement already satisfied: certifi>=2017.4.17 in /usr/local/lib/python3.7/dist-packages (from requests->vaderSentiment) (2020.12.5)\n",
            "Requirement already satisfied: urllib3!=1.25.0,!=1.25.1,<1.26,>=1.21.1 in /usr/local/lib/python3.7/dist-packages (from requests->vaderSentiment) (1.24.3)\n",
            "Requirement already satisfied: chardet<4,>=3.0.2 in /usr/local/lib/python3.7/dist-packages (from requests->vaderSentiment) (3.0.4)\n",
            "Requirement already satisfied: idna<3,>=2.5 in /usr/local/lib/python3.7/dist-packages (from requests->vaderSentiment) (2.10)\n",
            "Installing collected packages: vaderSentiment\n",
            "Successfully installed vaderSentiment-3.3.2\n"
          ],
          "name": "stdout"
        }
      ]
    },
    {
      "cell_type": "code",
      "metadata": {
        "id": "JsVgo0fo1JTA"
      },
      "source": [
        "from vaderSentiment.vaderSentiment import SentimentIntensityAnalyzer"
      ],
      "execution_count": 113,
      "outputs": []
    },
    {
      "cell_type": "code",
      "metadata": {
        "id": "_vKS2h_Z1H6z"
      },
      "source": [
        "analyzer = SentimentIntensityAnalyzer()\n",
        "\n",
        "df['compound'] = [analyzer.polarity_scores(x)['compound'] for x in df['Slogan']]\n",
        "df['neg'] = [analyzer.polarity_scores(x)['neg'] for x in df['Slogan']]\n",
        "df['neu'] = [analyzer.polarity_scores(x)['neu'] for x in df['Slogan']]\n",
        "df['pos'] = [analyzer.polarity_scores(x)['pos'] for x in df['Slogan']]"
      ],
      "execution_count": 114,
      "outputs": []
    },
    {
      "cell_type": "code",
      "metadata": {
        "id": "BWALXvsl176S"
      },
      "source": [
        "df['sentiment_type']=''\n",
        "df.loc[df.compound>0,'sentiment_type']='POSITIVE'\n",
        "df.loc[df.compound==0,'sentiment_type']='NEUTRAL'\n",
        "df.loc[df.compound<0,'sentiment_type']='NEGATIVE'"
      ],
      "execution_count": 116,
      "outputs": []
    },
    {
      "cell_type": "code",
      "metadata": {
        "colab": {
          "base_uri": "https://localhost:8080/",
          "height": 202
        },
        "id": "yFcni4Oq1hqX",
        "outputId": "c9f19287-f6e1-42a7-a1b4-2d090aa853c5"
      },
      "source": [
        "df.head(5)"
      ],
      "execution_count": 117,
      "outputs": [
        {
          "output_type": "execute_result",
          "data": {
            "text/html": [
              "<div>\n",
              "<style scoped>\n",
              "    .dataframe tbody tr th:only-of-type {\n",
              "        vertical-align: middle;\n",
              "    }\n",
              "\n",
              "    .dataframe tbody tr th {\n",
              "        vertical-align: top;\n",
              "    }\n",
              "\n",
              "    .dataframe thead th {\n",
              "        text-align: right;\n",
              "    }\n",
              "</style>\n",
              "<table border=\"1\" class=\"dataframe\">\n",
              "  <thead>\n",
              "    <tr style=\"text-align: right;\">\n",
              "      <th></th>\n",
              "      <th>Company</th>\n",
              "      <th>Slogan</th>\n",
              "      <th>Number_of_words</th>\n",
              "      <th>compound</th>\n",
              "      <th>neg</th>\n",
              "      <th>neu</th>\n",
              "      <th>pos</th>\n",
              "      <th>sentiment_type</th>\n",
              "    </tr>\n",
              "  </thead>\n",
              "  <tbody>\n",
              "    <tr>\n",
              "      <th>0</th>\n",
              "      <td>Costa Coffee</td>\n",
              "      <td>For coffee lovers.</td>\n",
              "      <td>3</td>\n",
              "      <td>0.5267</td>\n",
              "      <td>0.0</td>\n",
              "      <td>0.37</td>\n",
              "      <td>0.63</td>\n",
              "      <td>POSITIVE</td>\n",
              "    </tr>\n",
              "    <tr>\n",
              "      <th>1</th>\n",
              "      <td>Evian</td>\n",
              "      <td>Evian. Live young.</td>\n",
              "      <td>3</td>\n",
              "      <td>0.0000</td>\n",
              "      <td>0.0</td>\n",
              "      <td>1.00</td>\n",
              "      <td>0.00</td>\n",
              "      <td>NEUTRAL</td>\n",
              "    </tr>\n",
              "    <tr>\n",
              "      <th>2</th>\n",
              "      <td>Dasani</td>\n",
              "      <td>Designed to make a difference.</td>\n",
              "      <td>5</td>\n",
              "      <td>0.0000</td>\n",
              "      <td>0.0</td>\n",
              "      <td>1.00</td>\n",
              "      <td>0.00</td>\n",
              "      <td>NEUTRAL</td>\n",
              "    </tr>\n",
              "    <tr>\n",
              "      <th>5</th>\n",
              "      <td>TÃ­o Pepe</td>\n",
              "      <td>Good food tastes better after a glass of Tio Pepe</td>\n",
              "      <td>10</td>\n",
              "      <td>0.7003</td>\n",
              "      <td>0.0</td>\n",
              "      <td>0.58</td>\n",
              "      <td>0.42</td>\n",
              "      <td>POSITIVE</td>\n",
              "    </tr>\n",
              "    <tr>\n",
              "      <th>6</th>\n",
              "      <td>Tetley's Brewery</td>\n",
              "      <td>Don't Do Things By Halves.</td>\n",
              "      <td>5</td>\n",
              "      <td>0.0000</td>\n",
              "      <td>0.0</td>\n",
              "      <td>1.00</td>\n",
              "      <td>0.00</td>\n",
              "      <td>NEUTRAL</td>\n",
              "    </tr>\n",
              "  </tbody>\n",
              "</table>\n",
              "</div>"
            ],
            "text/plain": [
              "            Company  ... sentiment_type\n",
              "0      Costa Coffee  ...       POSITIVE\n",
              "1             Evian  ...        NEUTRAL\n",
              "2            Dasani  ...        NEUTRAL\n",
              "5         TÃ­o Pepe  ...       POSITIVE\n",
              "6  Tetley's Brewery  ...        NEUTRAL\n",
              "\n",
              "[5 rows x 8 columns]"
            ]
          },
          "metadata": {
            "tags": []
          },
          "execution_count": 117
        }
      ]
    },
    {
      "cell_type": "code",
      "metadata": {
        "colab": {
          "base_uri": "https://localhost:8080/",
          "height": 280
        },
        "id": "JHS76JVD2Z-3",
        "outputId": "ac8b0af2-52cf-4fcf-c0a0-f4fb68077745"
      },
      "source": [
        "ax = sns.countplot(x=\"sentiment_type\", data=df).set_title(\"Sentiments of Slogans\")"
      ],
      "execution_count": 119,
      "outputs": [
        {
          "output_type": "display_data",
          "data": {
            "image/png": "[encoded data removed]",
            "text/plain": [
              "<Figure size 432x288 with 1 Axes>"
            ]
          },
          "metadata": {
            "tags": [],
            "needs_background": "light"
          }
        }
      ]
    },
    {
      "cell_type": "markdown",
      "metadata": {
        "id": "tGTZe1Bf4_mY"
      },
      "source": [
        "Well, it says most sentimetns are actually neutral.\n",
        "\n",
        "Also, it shall be interesting to see how a slogan has a negative emption."
      ]
    },
    {
      "cell_type": "code",
      "metadata": {
        "colab": {
          "base_uri": "https://localhost:8080/",
          "height": 390
        },
        "id": "lw7jariA2wI5",
        "outputId": "1a4dd5cd-4001-4cf5-e654-20c1bc888c51"
      },
      "source": [
        "df.loc[df['sentiment_type'] == 'NEGATIVE'].head(10)"
      ],
      "execution_count": 121,
      "outputs": [
        {
          "output_type": "execute_result",
          "data": {
            "text/html": [
              "<div>\n",
              "<style scoped>\n",
              "    .dataframe tbody tr th:only-of-type {\n",
              "        vertical-align: middle;\n",
              "    }\n",
              "\n",
              "    .dataframe tbody tr th {\n",
              "        vertical-align: top;\n",
              "    }\n",
              "\n",
              "    .dataframe thead th {\n",
              "        text-align: right;\n",
              "    }\n",
              "</style>\n",
              "<table border=\"1\" class=\"dataframe\">\n",
              "  <thead>\n",
              "    <tr style=\"text-align: right;\">\n",
              "      <th></th>\n",
              "      <th>Company</th>\n",
              "      <th>Slogan</th>\n",
              "      <th>Number_of_words</th>\n",
              "      <th>compound</th>\n",
              "      <th>neg</th>\n",
              "      <th>neu</th>\n",
              "      <th>pos</th>\n",
              "      <th>sentiment_type</th>\n",
              "    </tr>\n",
              "  </thead>\n",
              "  <tbody>\n",
              "    <tr>\n",
              "      <th>11</th>\n",
              "      <td>Royal Tru</td>\n",
              "      <td>Bring out the crazy!</td>\n",
              "      <td>4</td>\n",
              "      <td>-0.4003</td>\n",
              "      <td>0.473</td>\n",
              "      <td>0.527</td>\n",
              "      <td>0.000</td>\n",
              "      <td>NEGATIVE</td>\n",
              "    </tr>\n",
              "    <tr>\n",
              "      <th>57</th>\n",
              "      <td>Robinsons (drink)</td>\n",
              "      <td>Real Fruit in Every Drop.</td>\n",
              "      <td>5</td>\n",
              "      <td>-0.2732</td>\n",
              "      <td>0.344</td>\n",
              "      <td>0.656</td>\n",
              "      <td>0.000</td>\n",
              "      <td>NEGATIVE</td>\n",
              "    </tr>\n",
              "    <tr>\n",
              "      <th>58</th>\n",
              "      <td>Yazoo (drink)</td>\n",
              "      <td>Milk shaken up.</td>\n",
              "      <td>3</td>\n",
              "      <td>-0.0772</td>\n",
              "      <td>0.394</td>\n",
              "      <td>0.606</td>\n",
              "      <td>0.000</td>\n",
              "      <td>NEGATIVE</td>\n",
              "    </tr>\n",
              "    <tr>\n",
              "      <th>80</th>\n",
              "      <td>Mecca-Cola</td>\n",
              "      <td>Shake your Conscience.</td>\n",
              "      <td>3</td>\n",
              "      <td>-0.1779</td>\n",
              "      <td>0.459</td>\n",
              "      <td>0.541</td>\n",
              "      <td>0.000</td>\n",
              "      <td>NEGATIVE</td>\n",
              "    </tr>\n",
              "    <tr>\n",
              "      <th>92</th>\n",
              "      <td>Fresca</td>\n",
              "      <td>Nothing tastes like Fresca.</td>\n",
              "      <td>4</td>\n",
              "      <td>-0.2755</td>\n",
              "      <td>0.413</td>\n",
              "      <td>0.587</td>\n",
              "      <td>0.000</td>\n",
              "      <td>NEGATIVE</td>\n",
              "    </tr>\n",
              "    <tr>\n",
              "      <th>128</th>\n",
              "      <td>Blavod</td>\n",
              "      <td>Outrageously Smooth.</td>\n",
              "      <td>2</td>\n",
              "      <td>-0.2960</td>\n",
              "      <td>0.688</td>\n",
              "      <td>0.312</td>\n",
              "      <td>0.000</td>\n",
              "      <td>NEGATIVE</td>\n",
              "    </tr>\n",
              "    <tr>\n",
              "      <th>210</th>\n",
              "      <td>Haig (whisky)</td>\n",
              "      <td>Donât Be Vague, Ask For A Haig.</td>\n",
              "      <td>7</td>\n",
              "      <td>-0.1027</td>\n",
              "      <td>0.189</td>\n",
              "      <td>0.811</td>\n",
              "      <td>0.000</td>\n",
              "      <td>NEGATIVE</td>\n",
              "    </tr>\n",
              "    <tr>\n",
              "      <th>373</th>\n",
              "      <td>Douwe Egberts</td>\n",
              "      <td>No ordinary jar. No ordinary coffee.</td>\n",
              "      <td>6</td>\n",
              "      <td>-0.5267</td>\n",
              "      <td>0.524</td>\n",
              "      <td>0.476</td>\n",
              "      <td>0.000</td>\n",
              "      <td>NEGATIVE</td>\n",
              "    </tr>\n",
              "    <tr>\n",
              "      <th>451</th>\n",
              "      <td>Grolsch Brewery</td>\n",
              "      <td>No Oneâs Ever Changed The World By Being Boa...</td>\n",
              "      <td>9</td>\n",
              "      <td>-0.2960</td>\n",
              "      <td>0.216</td>\n",
              "      <td>0.784</td>\n",
              "      <td>0.000</td>\n",
              "      <td>NEGATIVE</td>\n",
              "    </tr>\n",
              "    <tr>\n",
              "      <th>492</th>\n",
              "      <td>Bad Frog</td>\n",
              "      <td>The Beer so Good it's Bad.</td>\n",
              "      <td>6</td>\n",
              "      <td>-0.0058</td>\n",
              "      <td>0.327</td>\n",
              "      <td>0.348</td>\n",
              "      <td>0.325</td>\n",
              "      <td>NEGATIVE</td>\n",
              "    </tr>\n",
              "  </tbody>\n",
              "</table>\n",
              "</div>"
            ],
            "text/plain": [
              "               Company  ... sentiment_type\n",
              "11           Royal Tru  ...       NEGATIVE\n",
              "57   Robinsons (drink)  ...       NEGATIVE\n",
              "58       Yazoo (drink)  ...       NEGATIVE\n",
              "80          Mecca-Cola  ...       NEGATIVE\n",
              "92              Fresca  ...       NEGATIVE\n",
              "128             Blavod  ...       NEGATIVE\n",
              "210      Haig (whisky)  ...       NEGATIVE\n",
              "373      Douwe Egberts  ...       NEGATIVE\n",
              "451    Grolsch Brewery  ...       NEGATIVE\n",
              "492           Bad Frog  ...       NEGATIVE\n",
              "\n",
              "[10 rows x 8 columns]"
            ]
          },
          "metadata": {
            "tags": []
          },
          "execution_count": 121
        }
      ]
    },
    {
      "cell_type": "markdown",
      "metadata": {
        "id": "vwaOW23K5bea"
      },
      "source": [
        "So, words like nothing, no, Bad, crazy are fooling the analyzer."
      ]
    },
    {
      "cell_type": "markdown",
      "metadata": {
        "id": "Rer39ZuMKqe7"
      },
      "source": [
        "## Conclusion\n"
      ]
    }
  ]
}