{
  "nbformat": 4,
  "nbformat_minor": 0,
  "metadata": {
    "kernelspec": {
      "display_name": "Python 3",
      "language": "python",
      "name": "python3"
    },
    "language_info": {
      "codemirror_mode": {
        "name": "ipython",
        "version": 3
      },
      "file_extension": ".py",
      "mimetype": "text/x-python",
      "name": "python",
      "nbconvert_exporter": "python",
      "pygments_lexer": "ipython3",
      "version": "3.6.6"
    },
    "colab": {
      "name": "starter-slogan-dataset-ffa80249-6.ipynb",
      "provenance": [],
      "include_colab_link": true
    }
  },
  "cells": [
    {
      "cell_type": "markdown",
      "metadata": {
        "id": "view-in-github",
        "colab_type": "text"
      },
      "source": [
        "<a href=\"https://colab.research.google.com/github/BlackCurrantDS/Data-Mining/blob/master/starter_slogan_dataset_ffa80249_6.ipynb\" target=\"_parent\"><img src=\"https://colab.research.google.com/assets/colab-badge.svg\" alt=\"Open In Colab\"/></a>"
      ]
    },
    {
      "cell_type": "markdown",
      "metadata": {
        "id": "9FQQg-cPKqey"
      },
      "source": [
        "## Introduction\n",
        "This notebook explores the slogans data."
      ]
    },
    {
      "cell_type": "markdown",
      "metadata": {
        "id": "FP5rurjhKqe1"
      },
      "source": [
        "## Exploratory Analysis\n"
      ]
    },
    {
      "cell_type": "code",
      "metadata": {
        "_kg_hide-input": false,
        "id": "4M8PKOAkKqe1"
      },
      "source": [
        "from mpl_toolkits.mplot3d import Axes3D\n",
        "from sklearn.preprocessing import StandardScaler\n",
        "import matplotlib.pyplot as plt # plotting\n",
        "import numpy as np # linear algebra\n",
        "import os # accessing directory structure\n",
        "import pandas as pd # data processing, CSV file I/O (e.g. pd.read_csv)\n",
        "import seaborn as sns\n"
      ],
      "execution_count": null,
      "outputs": []
    },
    {
      "cell_type": "markdown",
      "metadata": {
        "id": "5xzcjntKQ8Mp"
      },
      "source": [
        "Getting the data into a dataframe"
      ]
    },
    {
      "cell_type": "code",
      "metadata": {
        "_kg_hide-input": false,
        "colab": {
          "base_uri": "https://localhost:8080/"
        },
        "id": "HLusK9MBKqe5",
        "outputId": "f9e11942-e446-408f-d792-bd42ca6c0437"
      },
      "source": [
        "nRowsRead = None # specify 'None' if want to read whole file\n",
        "# sloganlist.csv may have more rows in reality, but we are only loading/previewing the first 1000 rows\n",
        "df = pd.read_csv('sloganlist.csv', delimiter=',', nrows = nRowsRead)\n",
        "df.dataframeName = 'sloganlist.csv'\n",
        "nRow, nCol = df.shape\n",
        "print(f'There are {nRow} rows and {nCol} columns')"
      ],
      "execution_count": null,
      "outputs": [
        {
          "output_type": "stream",
          "text": [
            "There are 1162 rows and 2 columns\n"
          ],
          "name": "stdout"
        }
      ]
    },
    {
      "cell_type": "markdown",
      "metadata": {
        "id": "RkUNtKbGKqe5"
      },
      "source": [
        "Let's take a quick look at what the data looks like:"
      ]
    },
    {
      "cell_type": "code",
      "metadata": {
        "_kg_hide-input": false,
        "colab": {
          "base_uri": "https://localhost:8080/",
          "height": 203
        },
        "id": "UiQHFAd3Kqe6",
        "outputId": "348f8adf-c281-4928-e206-5474a2ff1571"
      },
      "source": [
        "df.head(5)"
      ],
      "execution_count": null,
      "outputs": [
        {
          "output_type": "execute_result",
          "data": {
            "text/html": [
              "<div>\n",
              "<style scoped>\n",
              "    .dataframe tbody tr th:only-of-type {\n",
              "        vertical-align: middle;\n",
              "    }\n",
              "\n",
              "    .dataframe tbody tr th {\n",
              "        vertical-align: top;\n",
              "    }\n",
              "\n",
              "    .dataframe thead th {\n",
              "        text-align: right;\n",
              "    }\n",
              "</style>\n",
              "<table border=\"1\" class=\"dataframe\">\n",
              "  <thead>\n",
              "    <tr style=\"text-align: right;\">\n",
              "      <th></th>\n",
              "      <th>Company</th>\n",
              "      <th>Slogan</th>\n",
              "    </tr>\n",
              "  </thead>\n",
              "  <tbody>\n",
              "    <tr>\n",
              "      <th>0</th>\n",
              "      <td>Costa Coffee</td>\n",
              "      <td>For coffee lovers.</td>\n",
              "    </tr>\n",
              "    <tr>\n",
              "      <th>1</th>\n",
              "      <td>Evian</td>\n",
              "      <td>Evian. Live young.</td>\n",
              "    </tr>\n",
              "    <tr>\n",
              "      <th>2</th>\n",
              "      <td>Dasani</td>\n",
              "      <td>Designed to make a difference.</td>\n",
              "    </tr>\n",
              "    <tr>\n",
              "      <th>3</th>\n",
              "      <td>Heineken</td>\n",
              "      <td>It's all about the beer.</td>\n",
              "    </tr>\n",
              "    <tr>\n",
              "      <th>4</th>\n",
              "      <td>Gatorade</td>\n",
              "      <td>The Legend Continues.</td>\n",
              "    </tr>\n",
              "  </tbody>\n",
              "</table>\n",
              "</div>"
            ],
            "text/plain": [
              "        Company                          Slogan\n",
              "0  Costa Coffee              For coffee lovers.\n",
              "1         Evian              Evian. Live young.\n",
              "2        Dasani  Designed to make a difference.\n",
              "3      Heineken        It's all about the beer.\n",
              "4      Gatorade           The Legend Continues."
            ]
          },
          "metadata": {
            "tags": []
          },
          "execution_count": 14
        }
      ]
    },
    {
      "cell_type": "code",
      "metadata": {
        "colab": {
          "base_uri": "https://localhost:8080/"
        },
        "id": "almu_0UbTqNC",
        "outputId": "1a336714-7cc7-4548-d3ab-1b2b676832c1"
      },
      "source": [
        "#checking dataframe information\n",
        "df.info()"
      ],
      "execution_count": null,
      "outputs": [
        {
          "output_type": "stream",
          "text": [
            "<class 'pandas.core.frame.DataFrame'>\n",
            "RangeIndex: 1162 entries, 0 to 1161\n",
            "Data columns (total 2 columns):\n",
            " #   Column   Non-Null Count  Dtype \n",
            "---  ------   --------------  ----- \n",
            " 0   Company  1162 non-null   object\n",
            " 1   Slogan   1162 non-null   object\n",
            "dtypes: object(2)\n",
            "memory usage: 18.3+ KB\n"
          ],
          "name": "stdout"
        }
      ]
    },
    {
      "cell_type": "markdown",
      "metadata": {
        "id": "hsIPdABVRTvt"
      },
      "source": [
        "Looks like no missing values, let's check duplicates"
      ]
    },
    {
      "cell_type": "code",
      "metadata": {
        "colab": {
          "base_uri": "https://localhost:8080/",
          "height": 434
        },
        "id": "Nsu115_nRZRy",
        "outputId": "35e95d36-d034-4449-fd87-3806da7d49d6"
      },
      "source": [
        "duplicate = df[df.duplicated('Company')]\n",
        "  \n",
        "print(\"Duplicate Rows :\")\n",
        "\n",
        "duplicate"
      ],
      "execution_count": null,
      "outputs": [
        {
          "output_type": "stream",
          "text": [
            "Duplicate Rows :\n"
          ],
          "name": "stdout"
        },
        {
          "output_type": "execute_result",
          "data": {
            "text/html": [
              "<div>\n",
              "<style scoped>\n",
              "    .dataframe tbody tr th:only-of-type {\n",
              "        vertical-align: middle;\n",
              "    }\n",
              "\n",
              "    .dataframe tbody tr th {\n",
              "        vertical-align: top;\n",
              "    }\n",
              "\n",
              "    .dataframe thead th {\n",
              "        text-align: right;\n",
              "    }\n",
              "</style>\n",
              "<table border=\"1\" class=\"dataframe\">\n",
              "  <thead>\n",
              "    <tr style=\"text-align: right;\">\n",
              "      <th></th>\n",
              "      <th>Company</th>\n",
              "      <th>Slogan</th>\n",
              "    </tr>\n",
              "  </thead>\n",
              "  <tbody>\n",
              "    <tr>\n",
              "      <th>26</th>\n",
              "      <td>Heineken</td>\n",
              "      <td>It's all about the beer.</td>\n",
              "    </tr>\n",
              "    <tr>\n",
              "      <th>27</th>\n",
              "      <td>Gatorade</td>\n",
              "      <td>The Legend Continues.</td>\n",
              "    </tr>\n",
              "    <tr>\n",
              "      <th>60</th>\n",
              "      <td>Colgate</td>\n",
              "      <td>Stronger, healthier gums.</td>\n",
              "    </tr>\n",
              "    <tr>\n",
              "      <th>61</th>\n",
              "      <td>Fanta</td>\n",
              "      <td>Drink Fanta, stay Bamboocha.</td>\n",
              "    </tr>\n",
              "    <tr>\n",
              "      <th>62</th>\n",
              "      <td>Pizza Hut</td>\n",
              "      <td>Make it great.</td>\n",
              "    </tr>\n",
              "    <tr>\n",
              "      <th>...</th>\n",
              "      <td>...</td>\n",
              "      <td>...</td>\n",
              "    </tr>\n",
              "    <tr>\n",
              "      <th>1157</th>\n",
              "      <td>Levi's Jeans</td>\n",
              "      <td>Original jeans. original people.</td>\n",
              "    </tr>\n",
              "    <tr>\n",
              "      <th>1158</th>\n",
              "      <td>Dove (toiletries)</td>\n",
              "      <td>The secret of beautiful hair.</td>\n",
              "    </tr>\n",
              "    <tr>\n",
              "      <th>1159</th>\n",
              "      <td>Lipton</td>\n",
              "      <td>Be more tea.</td>\n",
              "    </tr>\n",
              "    <tr>\n",
              "      <th>1160</th>\n",
              "      <td>Pampers</td>\n",
              "      <td>Discover your babyâs world.</td>\n",
              "    </tr>\n",
              "    <tr>\n",
              "      <th>1161</th>\n",
              "      <td>Coca-Cola</td>\n",
              "      <td>Taste The Feeling.</td>\n",
              "    </tr>\n",
              "  </tbody>\n",
              "</table>\n",
              "<p>593 rows × 2 columns</p>\n",
              "</div>"
            ],
            "text/plain": [
              "                Company                            Slogan\n",
              "26             Heineken          It's all about the beer.\n",
              "27             Gatorade             The Legend Continues.\n",
              "60              Colgate         Stronger, healthier gums.\n",
              "61                Fanta      Drink Fanta, stay Bamboocha.\n",
              "62            Pizza Hut                    Make it great.\n",
              "...                 ...                               ...\n",
              "1157       Levi's Jeans  Original jeans. original people.\n",
              "1158  Dove (toiletries)     The secret of beautiful hair.\n",
              "1159             Lipton                      Be more tea.\n",
              "1160            Pampers     Discover your babyâs world.\n",
              "1161          Coca-Cola                Taste The Feeling.\n",
              "\n",
              "[593 rows x 2 columns]"
            ]
          },
          "metadata": {
            "tags": []
          },
          "execution_count": 19
        }
      ]
    },
    {
      "cell_type": "code",
      "metadata": {
        "colab": {
          "base_uri": "https://localhost:8080/",
          "height": 973
        },
        "id": "fSIMnQSoSTd8",
        "outputId": "abc23d03-760c-4625-ff15-73d9f9cd84a6"
      },
      "source": [
        "df.loc[df['Company'] == 'Colgate']"
      ],
      "execution_count": null,
      "outputs": [
        {
          "output_type": "execute_result",
          "data": {
            "text/html": [
              "<div>\n",
              "<style scoped>\n",
              "    .dataframe tbody tr th:only-of-type {\n",
              "        vertical-align: middle;\n",
              "    }\n",
              "\n",
              "    .dataframe tbody tr th {\n",
              "        vertical-align: top;\n",
              "    }\n",
              "\n",
              "    .dataframe thead th {\n",
              "        text-align: right;\n",
              "    }\n",
              "</style>\n",
              "<table border=\"1\" class=\"dataframe\">\n",
              "  <thead>\n",
              "    <tr style=\"text-align: right;\">\n",
              "      <th></th>\n",
              "      <th>Company</th>\n",
              "      <th>Slogan</th>\n",
              "    </tr>\n",
              "  </thead>\n",
              "  <tbody>\n",
              "    <tr>\n",
              "      <th>20</th>\n",
              "      <td>Colgate</td>\n",
              "      <td>Stronger, healthier gums.</td>\n",
              "    </tr>\n",
              "    <tr>\n",
              "      <th>60</th>\n",
              "      <td>Colgate</td>\n",
              "      <td>Stronger, healthier gums.</td>\n",
              "    </tr>\n",
              "    <tr>\n",
              "      <th>100</th>\n",
              "      <td>Colgate</td>\n",
              "      <td>Stronger, healthier gums.</td>\n",
              "    </tr>\n",
              "    <tr>\n",
              "      <th>140</th>\n",
              "      <td>Colgate</td>\n",
              "      <td>Stronger, healthier gums.</td>\n",
              "    </tr>\n",
              "    <tr>\n",
              "      <th>180</th>\n",
              "      <td>Colgate</td>\n",
              "      <td>Stronger, healthier gums.</td>\n",
              "    </tr>\n",
              "    <tr>\n",
              "      <th>220</th>\n",
              "      <td>Colgate</td>\n",
              "      <td>Stronger, healthier gums.</td>\n",
              "    </tr>\n",
              "    <tr>\n",
              "      <th>260</th>\n",
              "      <td>Colgate</td>\n",
              "      <td>Stronger, healthier gums.</td>\n",
              "    </tr>\n",
              "    <tr>\n",
              "      <th>300</th>\n",
              "      <td>Colgate</td>\n",
              "      <td>Stronger, healthier gums.</td>\n",
              "    </tr>\n",
              "    <tr>\n",
              "      <th>340</th>\n",
              "      <td>Colgate</td>\n",
              "      <td>Stronger, healthier gums.</td>\n",
              "    </tr>\n",
              "    <tr>\n",
              "      <th>380</th>\n",
              "      <td>Colgate</td>\n",
              "      <td>Stronger, healthier gums.</td>\n",
              "    </tr>\n",
              "    <tr>\n",
              "      <th>421</th>\n",
              "      <td>Colgate</td>\n",
              "      <td>Stronger, healthier gums.</td>\n",
              "    </tr>\n",
              "    <tr>\n",
              "      <th>461</th>\n",
              "      <td>Colgate</td>\n",
              "      <td>Stronger, healthier gums.</td>\n",
              "    </tr>\n",
              "    <tr>\n",
              "      <th>501</th>\n",
              "      <td>Colgate</td>\n",
              "      <td>Stronger, healthier gums.</td>\n",
              "    </tr>\n",
              "    <tr>\n",
              "      <th>541</th>\n",
              "      <td>Colgate</td>\n",
              "      <td>Stronger, healthier gums.</td>\n",
              "    </tr>\n",
              "    <tr>\n",
              "      <th>562</th>\n",
              "      <td>Colgate</td>\n",
              "      <td>Stronger, healthier gums.</td>\n",
              "    </tr>\n",
              "    <tr>\n",
              "      <th>602</th>\n",
              "      <td>Colgate</td>\n",
              "      <td>Stronger, healthier gums.</td>\n",
              "    </tr>\n",
              "    <tr>\n",
              "      <th>642</th>\n",
              "      <td>Colgate</td>\n",
              "      <td>Stronger, healthier gums.</td>\n",
              "    </tr>\n",
              "    <tr>\n",
              "      <th>682</th>\n",
              "      <td>Colgate</td>\n",
              "      <td>Stronger, healthier gums.</td>\n",
              "    </tr>\n",
              "    <tr>\n",
              "      <th>722</th>\n",
              "      <td>Colgate</td>\n",
              "      <td>Stronger, healthier gums.</td>\n",
              "    </tr>\n",
              "    <tr>\n",
              "      <th>762</th>\n",
              "      <td>Colgate</td>\n",
              "      <td>Stronger, healthier gums.</td>\n",
              "    </tr>\n",
              "    <tr>\n",
              "      <th>802</th>\n",
              "      <td>Colgate</td>\n",
              "      <td>Stronger, healthier gums.</td>\n",
              "    </tr>\n",
              "    <tr>\n",
              "      <th>842</th>\n",
              "      <td>Colgate</td>\n",
              "      <td>Stronger, healthier gums.</td>\n",
              "    </tr>\n",
              "    <tr>\n",
              "      <th>882</th>\n",
              "      <td>Colgate</td>\n",
              "      <td>Stronger, healthier gums.</td>\n",
              "    </tr>\n",
              "    <tr>\n",
              "      <th>922</th>\n",
              "      <td>Colgate</td>\n",
              "      <td>Stronger, healthier gums.</td>\n",
              "    </tr>\n",
              "    <tr>\n",
              "      <th>947</th>\n",
              "      <td>Colgate</td>\n",
              "      <td>Stronger, healthier gums.</td>\n",
              "    </tr>\n",
              "    <tr>\n",
              "      <th>987</th>\n",
              "      <td>Colgate</td>\n",
              "      <td>Stronger, healthier gums.</td>\n",
              "    </tr>\n",
              "    <tr>\n",
              "      <th>1027</th>\n",
              "      <td>Colgate</td>\n",
              "      <td>Stronger, healthier gums.</td>\n",
              "    </tr>\n",
              "    <tr>\n",
              "      <th>1067</th>\n",
              "      <td>Colgate</td>\n",
              "      <td>Stronger, healthier gums.</td>\n",
              "    </tr>\n",
              "    <tr>\n",
              "      <th>1107</th>\n",
              "      <td>Colgate</td>\n",
              "      <td>Stronger, healthier gums.</td>\n",
              "    </tr>\n",
              "    <tr>\n",
              "      <th>1143</th>\n",
              "      <td>Colgate</td>\n",
              "      <td>Stronger, healthier gums.</td>\n",
              "    </tr>\n",
              "  </tbody>\n",
              "</table>\n",
              "</div>"
            ],
            "text/plain": [
              "      Company                     Slogan\n",
              "20    Colgate  Stronger, healthier gums.\n",
              "60    Colgate  Stronger, healthier gums.\n",
              "100   Colgate  Stronger, healthier gums.\n",
              "140   Colgate  Stronger, healthier gums.\n",
              "180   Colgate  Stronger, healthier gums.\n",
              "220   Colgate  Stronger, healthier gums.\n",
              "260   Colgate  Stronger, healthier gums.\n",
              "300   Colgate  Stronger, healthier gums.\n",
              "340   Colgate  Stronger, healthier gums.\n",
              "380   Colgate  Stronger, healthier gums.\n",
              "421   Colgate  Stronger, healthier gums.\n",
              "461   Colgate  Stronger, healthier gums.\n",
              "501   Colgate  Stronger, healthier gums.\n",
              "541   Colgate  Stronger, healthier gums.\n",
              "562   Colgate  Stronger, healthier gums.\n",
              "602   Colgate  Stronger, healthier gums.\n",
              "642   Colgate  Stronger, healthier gums.\n",
              "682   Colgate  Stronger, healthier gums.\n",
              "722   Colgate  Stronger, healthier gums.\n",
              "762   Colgate  Stronger, healthier gums.\n",
              "802   Colgate  Stronger, healthier gums.\n",
              "842   Colgate  Stronger, healthier gums.\n",
              "882   Colgate  Stronger, healthier gums.\n",
              "922   Colgate  Stronger, healthier gums.\n",
              "947   Colgate  Stronger, healthier gums.\n",
              "987   Colgate  Stronger, healthier gums.\n",
              "1027  Colgate  Stronger, healthier gums.\n",
              "1067  Colgate  Stronger, healthier gums.\n",
              "1107  Colgate  Stronger, healthier gums.\n",
              "1143  Colgate  Stronger, healthier gums."
            ]
          },
          "metadata": {
            "tags": []
          },
          "execution_count": 22
        }
      ]
    },
    {
      "cell_type": "markdown",
      "metadata": {
        "id": "zH9mqztRTLPm"
      },
      "source": [
        "Looks like a lots of classic duplicates, lets remove all such cases"
      ]
    },
    {
      "cell_type": "code",
      "metadata": {
        "id": "bRQ-5bHNTKd8"
      },
      "source": [
        "df = df.drop_duplicates(keep=False)"
      ],
      "execution_count": null,
      "outputs": []
    },
    {
      "cell_type": "code",
      "metadata": {
        "colab": {
          "base_uri": "https://localhost:8080/"
        },
        "id": "z_PkpCP9UJ-C",
        "outputId": "d5b7e7d3-8a9c-496c-a2d6-acb8d91f0a8a"
      },
      "source": [
        "df.info()"
      ],
      "execution_count": null,
      "outputs": [
        {
          "output_type": "stream",
          "text": [
            "<class 'pandas.core.frame.DataFrame'>\n",
            "Int64Index: 549 entries, 0 to 1141\n",
            "Data columns (total 2 columns):\n",
            " #   Column   Non-Null Count  Dtype \n",
            "---  ------   --------------  ----- \n",
            " 0   Company  549 non-null    object\n",
            " 1   Slogan   549 non-null    object\n",
            "dtypes: object(2)\n",
            "memory usage: 12.9+ KB\n"
          ],
          "name": "stdout"
        }
      ]
    },
    {
      "cell_type": "markdown",
      "metadata": {
        "id": "Y3fKCGwBUSYK"
      },
      "source": [
        "that's almost half the rows!"
      ]
    },
    {
      "cell_type": "code",
      "metadata": {
        "colab": {
          "base_uri": "https://localhost:8080/",
          "height": 203
        },
        "id": "WNw56F1gUOAU",
        "outputId": "f2c492f9-f846-42f5-efa7-3158872610dd"
      },
      "source": [
        "df.head(5)"
      ],
      "execution_count": null,
      "outputs": [
        {
          "output_type": "execute_result",
          "data": {
            "text/html": [
              "<div>\n",
              "<style scoped>\n",
              "    .dataframe tbody tr th:only-of-type {\n",
              "        vertical-align: middle;\n",
              "    }\n",
              "\n",
              "    .dataframe tbody tr th {\n",
              "        vertical-align: top;\n",
              "    }\n",
              "\n",
              "    .dataframe thead th {\n",
              "        text-align: right;\n",
              "    }\n",
              "</style>\n",
              "<table border=\"1\" class=\"dataframe\">\n",
              "  <thead>\n",
              "    <tr style=\"text-align: right;\">\n",
              "      <th></th>\n",
              "      <th>Company</th>\n",
              "      <th>Slogan</th>\n",
              "    </tr>\n",
              "  </thead>\n",
              "  <tbody>\n",
              "    <tr>\n",
              "      <th>0</th>\n",
              "      <td>Costa Coffee</td>\n",
              "      <td>For coffee lovers.</td>\n",
              "    </tr>\n",
              "    <tr>\n",
              "      <th>1</th>\n",
              "      <td>Evian</td>\n",
              "      <td>Evian. Live young.</td>\n",
              "    </tr>\n",
              "    <tr>\n",
              "      <th>2</th>\n",
              "      <td>Dasani</td>\n",
              "      <td>Designed to make a difference.</td>\n",
              "    </tr>\n",
              "    <tr>\n",
              "      <th>5</th>\n",
              "      <td>TÃ­o Pepe</td>\n",
              "      <td>Good food tastes better after a glass of Tio Pepe</td>\n",
              "    </tr>\n",
              "    <tr>\n",
              "      <th>6</th>\n",
              "      <td>Tetley's Brewery</td>\n",
              "      <td>Don't Do Things By Halves.</td>\n",
              "    </tr>\n",
              "  </tbody>\n",
              "</table>\n",
              "</div>"
            ],
            "text/plain": [
              "            Company                                             Slogan\n",
              "0      Costa Coffee                                 For coffee lovers.\n",
              "1             Evian                                 Evian. Live young.\n",
              "2            Dasani                     Designed to make a difference.\n",
              "5         TÃ­o Pepe  Good food tastes better after a glass of Tio Pepe\n",
              "6  Tetley's Brewery                         Don't Do Things By Halves."
            ]
          },
          "metadata": {
            "tags": []
          },
          "execution_count": 26
        }
      ]
    },
    {
      "cell_type": "markdown",
      "metadata": {
        "id": "Qv8qnlRcUs-o"
      },
      "source": [
        "Is there are more than one slogan for a company?\n",
        "\n",
        "Is there same slogan for two companies?"
      ]
    },
    {
      "cell_type": "code",
      "metadata": {
        "colab": {
          "base_uri": "https://localhost:8080/",
          "height": 66
        },
        "id": "tSnnQhEqUdtJ",
        "outputId": "45dee54d-e672-41bf-b1a2-c542eccf6393"
      },
      "source": [
        "# on 'Company' column\n",
        "duplicate = df[df.duplicated('Company')]\n",
        "  \n",
        "print(\"Duplicate Rows based on Company :\")\n",
        "duplicate "
      ],
      "execution_count": null,
      "outputs": [
        {
          "output_type": "stream",
          "text": [
            "Duplicate Rows based on Company :\n"
          ],
          "name": "stdout"
        },
        {
          "output_type": "execute_result",
          "data": {
            "text/html": [
              "<div>\n",
              "<style scoped>\n",
              "    .dataframe tbody tr th:only-of-type {\n",
              "        vertical-align: middle;\n",
              "    }\n",
              "\n",
              "    .dataframe tbody tr th {\n",
              "        vertical-align: top;\n",
              "    }\n",
              "\n",
              "    .dataframe thead th {\n",
              "        text-align: right;\n",
              "    }\n",
              "</style>\n",
              "<table border=\"1\" class=\"dataframe\">\n",
              "  <thead>\n",
              "    <tr style=\"text-align: right;\">\n",
              "      <th></th>\n",
              "      <th>Company</th>\n",
              "      <th>Slogan</th>\n",
              "    </tr>\n",
              "  </thead>\n",
              "  <tbody>\n",
              "  </tbody>\n",
              "</table>\n",
              "</div>"
            ],
            "text/plain": [
              "Empty DataFrame\n",
              "Columns: [Company, Slogan]\n",
              "Index: []"
            ]
          },
          "metadata": {
            "tags": []
          },
          "execution_count": 30
        }
      ]
    },
    {
      "cell_type": "code",
      "metadata": {
        "colab": {
          "base_uri": "https://localhost:8080/",
          "height": 97
        },
        "id": "NA9msSufVYEV",
        "outputId": "66b8850a-191b-4128-d602-c73176b05f76"
      },
      "source": [
        "# on 'Slogan' column\n",
        "duplicate = df[df.duplicated('Slogan')]\n",
        "  \n",
        "print(\"Duplicate Rows based on Slogan :\")\n",
        "duplicate "
      ],
      "execution_count": null,
      "outputs": [
        {
          "output_type": "stream",
          "text": [
            "Duplicate Rows based on Slogan :\n"
          ],
          "name": "stdout"
        },
        {
          "output_type": "execute_result",
          "data": {
            "text/html": [
              "<div>\n",
              "<style scoped>\n",
              "    .dataframe tbody tr th:only-of-type {\n",
              "        vertical-align: middle;\n",
              "    }\n",
              "\n",
              "    .dataframe tbody tr th {\n",
              "        vertical-align: top;\n",
              "    }\n",
              "\n",
              "    .dataframe thead th {\n",
              "        text-align: right;\n",
              "    }\n",
              "</style>\n",
              "<table border=\"1\" class=\"dataframe\">\n",
              "  <thead>\n",
              "    <tr style=\"text-align: right;\">\n",
              "      <th></th>\n",
              "      <th>Company</th>\n",
              "      <th>Slogan</th>\n",
              "    </tr>\n",
              "  </thead>\n",
              "  <tbody>\n",
              "    <tr>\n",
              "      <th>448</th>\n",
              "      <td>Stolichnaya vodka</td>\n",
              "      <td>Exquisite wodka.</td>\n",
              "    </tr>\n",
              "  </tbody>\n",
              "</table>\n",
              "</div>"
            ],
            "text/plain": [
              "               Company            Slogan\n",
              "448  Stolichnaya vodka  Exquisite wodka."
            ]
          },
          "metadata": {
            "tags": []
          },
          "execution_count": 32
        }
      ]
    },
    {
      "cell_type": "code",
      "metadata": {
        "colab": {
          "base_uri": "https://localhost:8080/",
          "height": 110
        },
        "id": "i0FZ9BOsVfJe",
        "outputId": "b681decb-9b04-4cd8-bd80-cdd0b2c1ed8f"
      },
      "source": [
        "df.loc[df['Slogan'] == 'Exquisite wodka.']"
      ],
      "execution_count": null,
      "outputs": [
        {
          "output_type": "execute_result",
          "data": {
            "text/html": [
              "<div>\n",
              "<style scoped>\n",
              "    .dataframe tbody tr th:only-of-type {\n",
              "        vertical-align: middle;\n",
              "    }\n",
              "\n",
              "    .dataframe tbody tr th {\n",
              "        vertical-align: top;\n",
              "    }\n",
              "\n",
              "    .dataframe thead th {\n",
              "        text-align: right;\n",
              "    }\n",
              "</style>\n",
              "<table border=\"1\" class=\"dataframe\">\n",
              "  <thead>\n",
              "    <tr style=\"text-align: right;\">\n",
              "      <th></th>\n",
              "      <th>Company</th>\n",
              "      <th>Slogan</th>\n",
              "    </tr>\n",
              "  </thead>\n",
              "  <tbody>\n",
              "    <tr>\n",
              "      <th>334</th>\n",
              "      <td>Wyborowa Vodka</td>\n",
              "      <td>Exquisite wodka.</td>\n",
              "    </tr>\n",
              "    <tr>\n",
              "      <th>448</th>\n",
              "      <td>Stolichnaya vodka</td>\n",
              "      <td>Exquisite wodka.</td>\n",
              "    </tr>\n",
              "  </tbody>\n",
              "</table>\n",
              "</div>"
            ],
            "text/plain": [
              "               Company            Slogan\n",
              "334     Wyborowa Vodka  Exquisite wodka.\n",
              "448  Stolichnaya vodka  Exquisite wodka."
            ]
          },
          "metadata": {
            "tags": []
          },
          "execution_count": 33
        }
      ]
    },
    {
      "cell_type": "markdown",
      "metadata": {
        "id": "v75-M9tkVoNr"
      },
      "source": [
        "Well, which one to keep? Since, I have no idea about the alcohols and google isn't much help. I am dropping both the rows. Normally, Would ask someone else or report it be inconsistent or of both are same, update it."
      ]
    },
    {
      "cell_type": "code",
      "metadata": {
        "id": "fHeLWpqaVnm2"
      },
      "source": [
        "df = df[df.Slogan != \"Exquisite wodka.\"]"
      ],
      "execution_count": null,
      "outputs": []
    },
    {
      "cell_type": "markdown",
      "metadata": {
        "id": "Wghc5BhUXUA4"
      },
      "source": [
        "Well, Now let's find out for each company how long a slogan is.\n",
        "\n",
        "For that, count the number of words in a slogan."
      ]
    },
    {
      "cell_type": "code",
      "metadata": {
        "id": "OWxZG6DHXeTw"
      },
      "source": [
        "#keep the number of wrods in a column\n",
        "\n",
        "df['Number_of_words'] =  df['Slogan'].apply(lambda x: len(x.split()))"
      ],
      "execution_count": null,
      "outputs": []
    },
    {
      "cell_type": "code",
      "metadata": {
        "colab": {
          "base_uri": "https://localhost:8080/",
          "height": 203
        },
        "id": "PCmjlMpDYurs",
        "outputId": "ab08d8b9-c842-4674-fc64-63dba6e8b61d"
      },
      "source": [
        "df.head(5)"
      ],
      "execution_count": null,
      "outputs": [
        {
          "output_type": "execute_result",
          "data": {
            "text/html": [
              "<div>\n",
              "<style scoped>\n",
              "    .dataframe tbody tr th:only-of-type {\n",
              "        vertical-align: middle;\n",
              "    }\n",
              "\n",
              "    .dataframe tbody tr th {\n",
              "        vertical-align: top;\n",
              "    }\n",
              "\n",
              "    .dataframe thead th {\n",
              "        text-align: right;\n",
              "    }\n",
              "</style>\n",
              "<table border=\"1\" class=\"dataframe\">\n",
              "  <thead>\n",
              "    <tr style=\"text-align: right;\">\n",
              "      <th></th>\n",
              "      <th>Company</th>\n",
              "      <th>Slogan</th>\n",
              "      <th>Number_of_words</th>\n",
              "    </tr>\n",
              "  </thead>\n",
              "  <tbody>\n",
              "    <tr>\n",
              "      <th>0</th>\n",
              "      <td>Costa Coffee</td>\n",
              "      <td>For coffee lovers.</td>\n",
              "      <td>3</td>\n",
              "    </tr>\n",
              "    <tr>\n",
              "      <th>1</th>\n",
              "      <td>Evian</td>\n",
              "      <td>Evian. Live young.</td>\n",
              "      <td>3</td>\n",
              "    </tr>\n",
              "    <tr>\n",
              "      <th>2</th>\n",
              "      <td>Dasani</td>\n",
              "      <td>Designed to make a difference.</td>\n",
              "      <td>5</td>\n",
              "    </tr>\n",
              "    <tr>\n",
              "      <th>5</th>\n",
              "      <td>TÃ­o Pepe</td>\n",
              "      <td>Good food tastes better after a glass of Tio Pepe</td>\n",
              "      <td>10</td>\n",
              "    </tr>\n",
              "    <tr>\n",
              "      <th>6</th>\n",
              "      <td>Tetley's Brewery</td>\n",
              "      <td>Don't Do Things By Halves.</td>\n",
              "      <td>5</td>\n",
              "    </tr>\n",
              "  </tbody>\n",
              "</table>\n",
              "</div>"
            ],
            "text/plain": [
              "            Company  ... Number_of_words\n",
              "0      Costa Coffee  ...               3\n",
              "1             Evian  ...               3\n",
              "2            Dasani  ...               5\n",
              "5         TÃ­o Pepe  ...              10\n",
              "6  Tetley's Brewery  ...               5\n",
              "\n",
              "[5 rows x 3 columns]"
            ]
          },
          "metadata": {
            "tags": []
          },
          "execution_count": 42
        }
      ]
    },
    {
      "cell_type": "markdown",
      "metadata": {
        "id": "5AiwdEw7Y0Vp"
      },
      "source": [
        "Let's first see the range of number of words"
      ]
    },
    {
      "cell_type": "code",
      "metadata": {
        "colab": {
          "base_uri": "https://localhost:8080/"
        },
        "id": "XO0J1yfLY4uo",
        "outputId": "d649bd2f-4009-4fe0-a646-9e6acbcae8a9"
      },
      "source": [
        "df['Number_of_words'].describe()"
      ],
      "execution_count": null,
      "outputs": [
        {
          "output_type": "execute_result",
          "data": {
            "text/plain": [
              "count    547.000000\n",
              "mean       4.170018\n",
              "std        1.483232\n",
              "min        2.000000\n",
              "25%        3.000000\n",
              "50%        4.000000\n",
              "75%        5.000000\n",
              "max       10.000000\n",
              "Name: Number_of_words, dtype: float64"
            ]
          },
          "metadata": {
            "tags": []
          },
          "execution_count": 44
        }
      ]
    },
    {
      "cell_type": "markdown",
      "metadata": {
        "id": "mOgsPf1OZj84"
      },
      "source": [
        "Longest slogan has 10 words and shortest has 2. \n",
        "\n",
        "On average there are 4 words in a slogan.\n",
        "\n",
        "Most slogans have 3-5 words."
      ]
    },
    {
      "cell_type": "code",
      "metadata": {
        "colab": {
          "base_uri": "https://localhost:8080/",
          "height": 296
        },
        "id": "kal9Q4DWZtcj",
        "outputId": "e0d7fceb-2ec5-4f36-a4be-e42d5571beb5"
      },
      "source": [
        "ax = sns.boxplot(x=df[\"Number_of_words\"]).set_title('Number of words in a slogan')"
      ],
      "execution_count": null,
      "outputs": [
        {
          "output_type": "display_data",
          "data": {
            "image/png": "[encoded data removed]",
            "text/plain": [
              "<Figure size 432x288 with 1 Axes>"
            ]
          },
          "metadata": {
            "tags": [],
            "needs_background": "light"
          }
        }
      ]
    },
    {
      "cell_type": "markdown",
      "metadata": {
        "id": "uja4nvfGcF_I"
      },
      "source": [
        "Boxplot shows that slogans with 9 and 10 words are rare."
      ]
    },
    {
      "cell_type": "markdown",
      "metadata": {
        "id": "Oy1HNsoJc9p5"
      },
      "source": [
        "Let's see some common words in a slogan. This can be tricky because slogans are from various domains.\n",
        "\n",
        "For starters let's see most common words with a word cloud."
      ]
    },
    {
      "cell_type": "code",
      "metadata": {
        "id": "CPTnp6sZe2Ow"
      },
      "source": [
        "from wordcloud import WordCloud, STOPWORDS"
      ],
      "execution_count": null,
      "outputs": []
    },
    {
      "cell_type": "code",
      "metadata": {
        "colab": {
          "base_uri": "https://localhost:8080/",
          "height": 248
        },
        "id": "S0tjF_HsdIEx",
        "outputId": "7c7ba585-6fb1-4b72-a0c5-1c451fbc76d9"
      },
      "source": [
        "#getting stops words like is, are am etc.\n",
        "stopwords = set(STOPWORDS)\n",
        "\n",
        "#reading all the slogans into a single file\n",
        "text = df['Slogan'].values \n",
        "\n",
        "wordcloud = WordCloud(stopwords = stopwords,colormap=\"ocean\",width = 1600, height = 1600).generate(str(text))\n",
        "\n",
        "plt.imshow(wordcloud)\n",
        "plt.axis(\"off\")\n",
        "plt.show()"
      ],
      "execution_count": null,
      "outputs": [
        {
          "output_type": "display_data",
          "data": {
            "image/png": "[encoded data removed]",
            "text/plain": [
              "<Figure size 432x288 with 1 Axes>"
            ]
          },
          "metadata": {
            "tags": [],
            "needs_background": "light"
          }
        }
      ]
    },
    {
      "cell_type": "markdown",
      "metadata": {
        "id": "_BBQQB5CgTKN"
      },
      "source": [
        "Words like, Make, Good, better, great,best happy,love, fun makes sense.\n",
        "\n",
        "Lets find it in a list with frequencies"
      ]
    },
    {
      "cell_type": "code",
      "metadata": {
        "id": "CM7WiHruhIkE"
      },
      "source": [
        "import collections"
      ],
      "execution_count": null,
      "outputs": []
    },
    {
      "cell_type": "code",
      "metadata": {
        "id": "3JpeMf4gg-z1"
      },
      "source": [
        "#updating stop word list\n",
        "#stopwords = stopwords.union(set(['the','it','a'])) #not updating it as of now\n",
        "\n",
        "\n",
        "#get all the slogans\n",
        "raw = df['Slogan'].values \n",
        "\n",
        "wordcount = {}\n",
        "\n",
        "for word in str(raw).lower().split():\n",
        "    word = word.replace(\".\",\"\")\n",
        "    word = word.replace(\",\",\"\")\n",
        "    word = word.replace(\"'\",\"\")\n",
        "    word = word.replace(\":\",\"\")\n",
        "    word = word.replace(\"\\\"\",\"\")\n",
        "    word = word.replace(\"!\",\"\")\n",
        "    word = word.replace(\"â€œ\",\"\")\n",
        "    word = word.replace(\"â€˜\",\"\")\n",
        "    word = word.replace(\"*\",\"\")\n",
        "    if word not in stopwords:\n",
        "        if word not in wordcount:\n",
        "            wordcount[word] = 1\n",
        "        else:\n",
        "            wordcount[word] += 1\n"
      ],
      "execution_count": null,
      "outputs": []
    },
    {
      "cell_type": "code",
      "metadata": {
        "colab": {
          "base_uri": "https://localhost:8080/"
        },
        "id": "16sj2ApTiBUE",
        "outputId": "e43daaab-b4d0-4e51-dfa7-b65b2c3834bc"
      },
      "source": [
        "# Print 30 most common word\n",
        "word_counter = collections.Counter(wordcount)\n",
        "for word, count in word_counter.most_common(30):\n",
        "    print(word, \": \", count)"
      ],
      "execution_count": null,
      "outputs": [
        {
          "output_type": "stream",
          "text": [
            "good :  30\n",
            "taste :  22\n",
            "better :  20\n",
            "beer :  16\n",
            "make :  14\n",
            "best :  14\n",
            "tea :  13\n",
            "coffee :  12\n",
            "food :  11\n",
            "eat :  11\n",
            "love :  10\n",
            "great :  9\n",
            "life :  9\n",
            "time :  8\n",
            "drink :  8\n",
            "world :  8\n",
            "made :  8\n",
            "perfect :  8\n",
            "fresh :  8\n",
            "one :  8\n",
            "happy :  8\n",
            "every :  7\n",
            "go :  7\n",
            "live :  6\n",
            "tastes :  6\n",
            "little :  6\n",
            "always :  6\n",
            "pure :  6\n",
            "100% :  6\n",
            "pleasure :  6\n"
          ],
          "name": "stdout"
        }
      ]
    },
    {
      "cell_type": "code",
      "metadata": {
        "colab": {
          "base_uri": "https://localhost:8080/",
          "height": 297
        },
        "id": "EjyTRZbYtPTn",
        "outputId": "55409654-fa3e-42f6-a6ad-12546c3cc839"
      },
      "source": [
        "#plottting 20 most commons\n",
        "lst = word_counter.most_common(20)\n",
        "df_word_count = pd.DataFrame(lst, columns = ['Word', 'Count'])\n",
        "ax = sns.barplot(x=\"Word\", y=\"Count\", data=df_word_count)\n",
        "ax.set_xticklabels(ax.get_xticklabels(), rotation=40, ha=\"right\")\n",
        "ax.set_title('20 Most Common words in All Slogans')\n",
        "plt.tight_layout()\n",
        "plt.show()"
      ],
      "execution_count": null,
      "outputs": [
        {
          "output_type": "display_data",
          "data": {
            "image/png": "[encoded data removed]",
            "text/plain": [
              "<Figure size 432x288 with 1 Axes>"
            ]
          },
          "metadata": {
            "tags": [],
            "needs_background": "light"
          }
        }
      ]
    },
    {
      "cell_type": "markdown",
      "metadata": {
        "id": "22nO3lrdvCGF"
      },
      "source": [
        "Looks like every company is trying to \"Good\" very often!"
      ]
    },
    {
      "cell_type": "markdown",
      "metadata": {
        "id": "Rer39ZuMKqe7"
      },
      "source": [
        "## Conclusion\n"
      ]
    }
  ]
}