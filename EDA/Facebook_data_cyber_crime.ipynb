{
  "nbformat": 4,
  "nbformat_minor": 0,
  "metadata": {
    "colab": {
      "name": "Facebook_data_cyber_crime.ipynb",
      "provenance": [],
      "authorship_tag": "ABX9TyNR2ookLHIE9hH8gjk136hh",
      "include_colab_link": true
    },
    "kernelspec": {
      "name": "python3",
      "display_name": "Python 3"
    },
    "language_info": {
      "name": "python"
    }
  },
  "cells": [
    {
      "cell_type": "markdown",
      "metadata": {
        "id": "view-in-github",
        "colab_type": "text"
      },
      "source": [
        "<a href=\"https://colab.research.google.com/github/BlackCurrantDS/Data-Mining/blob/master/Facebook_data_cyber_crime.ipynb\" target=\"_parent\"><img src=\"https://colab.research.google.com/assets/colab-badge.svg\" alt=\"Open In Colab\"/></a>"
      ]
    },
    {
      "cell_type": "code",
      "metadata": {
        "id": "cnVEd9D2fOXy"
      },
      "source": [
        "import pandas as pd\n",
        "import numpy as np\n",
        "import urllib3\n",
        "import facebook\n",
        "import requests\n"
      ],
      "execution_count": null,
      "outputs": []
    }
  ]
}