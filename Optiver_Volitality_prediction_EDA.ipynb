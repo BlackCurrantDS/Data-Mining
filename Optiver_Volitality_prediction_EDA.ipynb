{
  "nbformat": 4,
  "nbformat_minor": 0,
  "metadata": {
    "colab": {
      "name": "Optiver_Volitality_prediction_EDA.ipynb",
      "provenance": [],
      "authorship_tag": "ABX9TyNLO83dwPJW+2dod8JUQPTt",
      "include_colab_link": true
    },
    "kernelspec": {
      "name": "python3",
      "display_name": "Python 3"
    },
    "language_info": {
      "name": "python"
    }
  },
  "cells": [
    {
      "cell_type": "markdown",
      "metadata": {
        "id": "view-in-github",
        "colab_type": "text"
      },
      "source": [
        "<a href=\"https://colab.research.google.com/github/BlackCurrantDS/Data-Mining/blob/master/Optiver_Volitality_prediction_EDA.ipynb\" target=\"_parent\"><img src=\"https://colab.research.google.com/assets/colab-badge.svg\" alt=\"Open In Colab\"/></a>"
      ]
    },
    {
      "cell_type": "markdown",
      "metadata": {
        "id": "uyZFAIXmgXlr"
      },
      "source": [
        "Kaggel download dataset\n",
        "\n",
        "https://adityashrm21.github.io/Setting-Up-Kaggle/\n",
        "\n",
        "https://stackoverflow.com/questions/49310470/using-kaggle-datasets-in-google-colab\n",
        "\n",
        "https://medium.com/analytics-vidhya/fetch-data-from-kaggle-with-python-9154a4c610e3"
      ]
    },
    {
      "cell_type": "code",
      "metadata": {
        "colab": {
          "base_uri": "https://localhost:8080/"
        },
        "id": "1SNmDI5igZ5Q",
        "outputId": "2d038884-c7f1-4bd2-96ba-577a789f00fc"
      },
      "source": [
        "pip install kaggle"
      ],
      "execution_count": 1,
      "outputs": [
        {
          "output_type": "stream",
          "text": [
            "Requirement already satisfied: kaggle in /usr/local/lib/python3.7/dist-packages (1.5.12)\n",
            "Requirement already satisfied: python-dateutil in /usr/local/lib/python3.7/dist-packages (from kaggle) (2.8.1)\n",
            "Requirement already satisfied: urllib3 in /usr/local/lib/python3.7/dist-packages (from kaggle) (1.24.3)\n",
            "Requirement already satisfied: certifi in /usr/local/lib/python3.7/dist-packages (from kaggle) (2021.5.30)\n",
            "Requirement already satisfied: tqdm in /usr/local/lib/python3.7/dist-packages (from kaggle) (4.41.1)\n",
            "Requirement already satisfied: python-slugify in /usr/local/lib/python3.7/dist-packages (from kaggle) (5.0.2)\n",
            "Requirement already satisfied: requests in /usr/local/lib/python3.7/dist-packages (from kaggle) (2.23.0)\n",
            "Requirement already satisfied: six>=1.10 in /usr/local/lib/python3.7/dist-packages (from kaggle) (1.15.0)\n",
            "Requirement already satisfied: text-unidecode>=1.3 in /usr/local/lib/python3.7/dist-packages (from python-slugify->kaggle) (1.3)\n",
            "Requirement already satisfied: idna<3,>=2.5 in /usr/local/lib/python3.7/dist-packages (from requests->kaggle) (2.10)\n",
            "Requirement already satisfied: chardet<4,>=3.0.2 in /usr/local/lib/python3.7/dist-packages (from requests->kaggle) (3.0.4)\n"
          ],
          "name": "stdout"
        }
      ]
    },
    {
      "cell_type": "code",
      "metadata": {
        "colab": {
          "base_uri": "https://localhost:8080/"
        },
        "id": "I65b4bXgj3Rm",
        "outputId": "4a1e3cd7-a5a8-457a-c63d-9c96ff0cd00f"
      },
      "source": [
        "mkdir ~/.kaggle"
      ],
      "execution_count": 8,
      "outputs": [
        {
          "output_type": "stream",
          "text": [
            "mkdir: cannot create directory ‘/root/.kaggle’: File exists\n"
          ],
          "name": "stdout"
        }
      ]
    },
    {
      "cell_type": "code",
      "metadata": {
        "id": "5epO1LWzj8qG"
      },
      "source": [
        "mv /content/kaggle.json ~/.kaggle/kaggle.json"
      ],
      "execution_count": 9,
      "outputs": []
    },
    {
      "cell_type": "code",
      "metadata": {
        "id": "Jw15fMXbkasX"
      },
      "source": [
        "!chmod 600 /root/.kaggle/kaggle.json"
      ],
      "execution_count": 16,
      "outputs": []
    },
    {
      "cell_type": "code",
      "metadata": {
        "id": "rGHi9Z6Ug7LR"
      },
      "source": [
        "from kaggle.api.kaggle_api_extended import KaggleApi\n",
        "api = KaggleApi()\n",
        "api.authenticate()"
      ],
      "execution_count": 17,
      "outputs": []
    },
    {
      "cell_type": "code",
      "metadata": {
        "colab": {
          "base_uri": "https://localhost:8080/"
        },
        "id": "c_uMHtM0lBNZ",
        "outputId": "ee8d6587-553f-4357-85ae-1e69c6f31842"
      },
      "source": [
        "api.competitions_list(category='gettingStarted')"
      ],
      "execution_count": 18,
      "outputs": [
        {
          "output_type": "execute_result",
          "data": {
            "text/plain": [
              "[contradictory-my-dear-watson,\n",
              " gan-getting-started,\n",
              " tpu-getting-started,\n",
              " digit-recognizer,\n",
              " titanic,\n",
              " house-prices-advanced-regression-techniques,\n",
              " connectx,\n",
              " nlp-getting-started,\n",
              " facial-keypoints-detection,\n",
              " street-view-getting-started-with-julia,\n",
              " word2vec-nlp-tutorial,\n",
              " data-science-london-scikit-learn,\n",
              " just-the-basics-the-after-party,\n",
              " just-the-basics-strata-2013]"
            ]
          },
          "metadata": {
            "tags": []
          },
          "execution_count": 18
        }
      ]
    },
    {
      "cell_type": "code",
      "metadata": {
        "colab": {
          "base_uri": "https://localhost:8080/"
        },
        "id": "-TUjOjUvlJkq",
        "outputId": "00c8fa8d-be48-4385-eede-a67208eaaf88"
      },
      "source": [
        "!kaggle competitions download -c optiver-realized-volatility-prediction"
      ],
      "execution_count": 20,
      "outputs": [
        {
          "output_type": "stream",
          "text": [
            "Warning: Looks like you're using an outdated API Version, please consider updating (server 1.5.12 / client 1.5.4)\n",
            "Downloading 7832c05caae3489cbcbbb9b02cf61711.parquet to /content\n",
            "  0% 0.00/6.94k [00:00<?, ?B/s]\n",
            "100% 6.94k/6.94k [00:00<00:00, 12.8MB/s]\n",
            "Downloading 96cd7e2d2ea74a62bd8b6d739fce17ca.parquet.zip to /content\n",
            "  0% 0.00/969k [00:00<?, ?B/s]\n",
            "100% 969k/969k [00:00<00:00, 62.8MB/s]\n",
            "Downloading 6e085d4ca2ba44359673a073bc8e41e9.parquet.zip to /content\n",
            "  0% 0.00/1.29M [00:00<?, ?B/s]\n",
            "100% 1.29M/1.29M [00:00<00:00, 86.9MB/s]\n",
            "Downloading 8870109f748e4ff4b9044e0debe8a54c.parquet.zip to /content\n",
            "  0% 0.00/907k [00:00<?, ?B/s]\n",
            "100% 907k/907k [00:00<00:00, 128MB/s]\n",
            "Downloading cca562a08dc24721b0dd837564abc3b5.parquet.zip to /content\n",
            "  0% 0.00/1.27M [00:00<?, ?B/s]\n",
            "100% 1.27M/1.27M [00:00<00:00, 81.7MB/s]\n",
            "Downloading c6b5a2974aac4210a6803c5907baaa07.parquet.zip to /content\n",
            "  0% 0.00/1.80M [00:00<?, ?B/s]\n",
            "100% 1.80M/1.80M [00:00<00:00, 123MB/s]\n",
            "Downloading 0621bfa8cb8545a189878af2727f8178.parquet.zip to /content\n",
            "  0% 0.00/1.51M [00:00<?, ?B/s]\n",
            "100% 1.51M/1.51M [00:00<00:00, 99.4MB/s]\n",
            "Downloading 7cc3c1fd9452435c83518f3c7c5b74a8.parquet.zip to /content\n",
            "  0% 0.00/1.73M [00:00<?, ?B/s]\n",
            "100% 1.73M/1.73M [00:00<00:00, 121MB/s]\n",
            "Downloading 4be9b4d23e0149af9dc20ec10d5a360f.parquet.zip to /content\n",
            "  0% 0.00/2.85M [00:00<?, ?B/s]\n",
            "100% 2.85M/2.85M [00:00<00:00, 94.1MB/s]\n",
            "Downloading 170b39f1f7144bb3b4554aabc336106e.parquet.zip to /content\n",
            "  0% 0.00/1.72M [00:00<?, ?B/s]\n",
            "100% 1.72M/1.72M [00:00<00:00, 108MB/s]\n",
            "Downloading 4dfaedf40be3485085d926ab58672bde.parquet.zip to /content\n",
            "  0% 0.00/1.24M [00:00<?, ?B/s]\n",
            "100% 1.24M/1.24M [00:00<00:00, 175MB/s]\n",
            "Downloading ef805fd82ff54fadb363094e3b122ab9.parquet to /content\n",
            "  0% 0.00/931k [00:00<?, ?B/s]\n",
            "100% 931k/931k [00:00<00:00, 124MB/s]\n",
            "Downloading 9e3f7f7b452a49e591da6115c17246af.parquet to /content\n",
            "  0% 0.00/689k [00:00<?, ?B/s]\n",
            "100% 689k/689k [00:00<00:00, 146MB/s]\n",
            "Downloading cd283097a5b54293ba400a19e811a7f9.parquet to /content\n",
            "  0% 0.00/842k [00:00<?, ?B/s]\n",
            "100% 842k/842k [00:00<00:00, 52.2MB/s]\n",
            "Downloading 0bdf7ff7bb4847bab154eb59fd1345bd.parquet.zip to /content\n",
            "  0% 0.00/1.14M [00:00<?, ?B/s]\n",
            "100% 1.14M/1.14M [00:00<00:00, 121MB/s]\n",
            "Downloading 3ac4a780531644b1b9534b3ac6c8d5f6.parquet.zip to /content\n",
            "  0% 0.00/1.89M [00:00<?, ?B/s]\n",
            "100% 1.89M/1.89M [00:00<00:00, 128MB/s]\n",
            "Downloading f1b306dc9c24482390bf2083c301c588.parquet.zip to /content\n",
            "  0% 0.00/1.26M [00:00<?, ?B/s]\n",
            "100% 1.26M/1.26M [00:00<00:00, 76.8MB/s]\n",
            "Downloading 06b735024acc45cbb4c81392e6d040e0.parquet.zip to /content\n",
            "  0% 0.00/1.31M [00:00<?, ?B/s]\n",
            "100% 1.31M/1.31M [00:00<00:00, 86.7MB/s]\n",
            "Downloading 5e8cea995bff4682a377e1d3932b08e2.parquet.zip to /content\n",
            "  0% 0.00/1.42M [00:00<?, ?B/s]\n",
            "100% 1.42M/1.42M [00:00<00:00, 95.1MB/s]\n",
            "Downloading 24bc76eb35d843d28cf4aeca325e9084.parquet.zip to /content\n",
            "  0% 0.00/3.64M [00:00<?, ?B/s]\n",
            "100% 3.64M/3.64M [00:00<00:00, 121MB/s]\n",
            "Downloading 581fd1b484db41e8a17449344c2ffb0e.parquet.zip to /content\n",
            "  0% 0.00/2.03M [00:00<?, ?B/s]\n",
            "100% 2.03M/2.03M [00:00<00:00, 138MB/s]\n",
            "Downloading 31c83a67d81349208e7d5eace9dbbac8.parquet to /content\n",
            "  0% 0.00/3.88k [00:00<?, ?B/s]\n",
            "100% 3.88k/3.88k [00:00<00:00, 3.76MB/s]\n",
            "Downloading bd6b0dc7386c49a79856b8df04e4a33b.parquet.zip to /content\n",
            " 54% 5.00M/9.23M [00:00<00:00, 48.0MB/s]\n",
            "100% 9.23M/9.23M [00:00<00:00, 59.0MB/s]\n",
            "Downloading 22c84a10a4b4477b85b5bf7688037e77.parquet.zip to /content\n",
            " 73% 9.00M/12.4M [00:00<00:00, 32.2MB/s]\n",
            "100% 12.4M/12.4M [00:00<00:00, 35.6MB/s]\n",
            "Downloading 2bba26018b9c482e90ca9be02e856382.parquet.zip to /content\n",
            " 74% 9.00M/12.2M [00:00<00:00, 33.5MB/s]\n",
            "100% 12.2M/12.2M [00:00<00:00, 35.1MB/s]\n",
            "Downloading a37b8bf4be2e4fa5b3ea63b7c4240d3d.parquet.zip to /content\n",
            " 55% 5.00M/9.12M [00:00<00:00, 51.8MB/s]\n",
            "100% 9.12M/9.12M [00:00<00:00, 56.9MB/s]\n",
            "Downloading 9495f2c64cee42078601dee7408e3c36.parquet.zip to /content\n",
            " 41% 5.00M/12.1M [00:00<00:00, 52.3MB/s]\n",
            "100% 12.1M/12.1M [00:00<00:00, 77.3MB/s]\n",
            "Downloading fede24892e38482a9b0a0af7adb1030c.parquet.zip to /content\n",
            " 65% 9.00M/13.8M [00:00<00:00, 30.2MB/s]\n",
            "100% 13.8M/13.8M [00:00<00:00, 34.6MB/s]\n",
            "Downloading 2698c014aa014ce0a476ccaf13795a43.parquet.zip to /content\n",
            " 89% 16.0M/17.9M [00:00<00:00, 53.5MB/s]\n",
            "100% 17.9M/17.9M [00:00<00:00, 71.0MB/s]\n",
            "Downloading d671bb2b87f447d4ba3fa4b18b3656f9.parquet.zip to /content\n",
            " 58% 9.00M/15.6M [00:00<00:00, 37.4MB/s]\n",
            "100% 15.6M/15.6M [00:00<00:00, 52.0MB/s]\n",
            "Downloading 31a1c5cd6d8546b383d10373db762236.parquet.zip to /content\n",
            " 69% 9.00M/13.1M [00:00<00:00, 28.5MB/s]\n",
            "100% 13.1M/13.1M [00:00<00:00, 37.7MB/s]\n",
            "Downloading 32688ffcc77d40a5ab6ad8054cf44cab.parquet.zip to /content\n",
            " 64% 5.00M/7.86M [00:00<00:00, 17.7MB/s]\n",
            "100% 7.86M/7.86M [00:00<00:00, 26.1MB/s]\n",
            "Downloading c439ef22282f412ba39e9137a3fdabac.parquet.zip to /content\n",
            " 65% 5.00M/7.63M [00:00<00:00, 42.4MB/s]\n",
            "100% 7.63M/7.63M [00:00<00:00, 48.8MB/s]\n",
            "Downloading cc7984f01a8747299339cb441632d6c0.parquet.zip to /content\n",
            " 77% 6.00M/7.79M [00:00<00:00, 61.9MB/s]\n",
            "100% 7.79M/7.79M [00:00<00:00, 71.7MB/s]\n",
            "Downloading 89c931289b58423bb27b45ce8109c148.parquet.zip to /content\n",
            " 61% 5.00M/8.26M [00:00<00:00, 39.5MB/s]\n",
            "100% 8.26M/8.26M [00:00<00:00, 51.5MB/s]\n",
            "Downloading 9d16ca233fea42c7a8ec91d621ca113a.parquet.zip to /content\n",
            " 55% 6.00M/10.9M [00:00<00:00, 61.1MB/s]\n",
            "100% 10.9M/10.9M [00:00<00:00, 69.1MB/s]\n",
            "Downloading dbbf6dc725ee4bcb8656c427165c888d.parquet.zip to /content\n",
            " 61% 9.00M/14.7M [00:00<00:00, 36.4MB/s]\n",
            "100% 14.7M/14.7M [00:00<00:00, 45.4MB/s]\n",
            "Downloading 0a58f297fa7b471a8c39b79420f9990d.parquet.zip to /content\n",
            " 56% 5.00M/8.98M [00:00<00:00, 44.3MB/s]\n",
            "100% 8.98M/8.98M [00:00<00:00, 57.3MB/s]\n",
            "Downloading 6875618fb8144a80a033ae8de7809493.parquet.zip to /content\n",
            " 67% 7.00M/10.5M [00:00<00:00, 70.3MB/s]\n",
            "100% 10.5M/10.5M [00:00<00:00, 63.8MB/s]\n",
            "Downloading 755d9c4058914e2a901aaeccf2406e30.parquet.zip to /content\n",
            " 46% 5.00M/11.0M [00:00<00:00, 40.5MB/s]\n",
            "100% 11.0M/11.0M [00:00<00:00, 68.8MB/s]\n",
            "Downloading 76fdfb893640493f8822cec944e35f0d.parquet.zip to /content\n",
            " 54% 9.00M/16.6M [00:00<00:00, 34.6MB/s]\n",
            "100% 16.6M/16.6M [00:00<00:00, 47.9MB/s]\n",
            "Downloading 662f6789c2be46e28884e9caceb1f67a.parquet.zip to /content\n",
            " 58% 9.00M/15.4M [00:00<00:00, 43.0MB/s]\n",
            "100% 15.4M/15.4M [00:00<00:00, 61.1MB/s]\n",
            "Downloading train.csv.zip to /content\n",
            "  0% 0.00/2.86M [00:00<?, ?B/s]\n",
            "100% 2.86M/2.86M [00:00<00:00, 87.6MB/s]\n",
            "Downloading test.csv to /content\n",
            "  0% 0.00/52.0 [00:00<?, ?B/s]\n",
            "100% 52.0/52.0 [00:00<00:00, 52.8kB/s]\n",
            "Downloading sample_submission.csv to /content\n",
            "  0% 0.00/64.0 [00:00<?, ?B/s]\n",
            "100% 64.0/64.0 [00:00<00:00, 56.4kB/s]\n"
          ],
          "name": "stdout"
        }
      ]
    },
    {
      "cell_type": "code",
      "metadata": {
        "id": "d8qkyq6mjr5v"
      },
      "source": [
        "import pandas as pd\n",
        "import numpy as np\n",
        "\n",
        "import matplotlib.pyplot as plt\n",
        "import seaborn as sns"
      ],
      "execution_count": 21,
      "outputs": []
    },
    {
      "cell_type": "code",
      "metadata": {
        "id": "g1juc-qgmtM0"
      },
      "source": [
        "import zipfile"
      ],
      "execution_count": 25,
      "outputs": []
    },
    {
      "cell_type": "code",
      "metadata": {
        "id": "dgLTgq5GmkTC"
      },
      "source": [
        "zf = zipfile.ZipFile('/content/c439ef22282f412ba39e9137a3fdabac.parquet.zip')\n",
        "#extracted data is saved in the same directory as notebook\n",
        "zf.extractall() \n",
        "zf.close()"
      ],
      "execution_count": 27,
      "outputs": []
    },
    {
      "cell_type": "code",
      "metadata": {
        "id": "ZH0Z5JuJmOUN"
      },
      "source": [
        "book = pd.read_parquet('/content/c439ef22282f412ba39e9137a3fdabac.parquet')"
      ],
      "execution_count": 28,
      "outputs": []
    },
    {
      "cell_type": "code",
      "metadata": {
        "colab": {
          "base_uri": "https://localhost:8080/",
          "height": 222
        },
        "id": "lG80dH-Nnbe2",
        "outputId": "a62d50f7-a6c7-4659-b40b-ce8954e181a9"
      },
      "source": [
        "book.head(5)"
      ],
      "execution_count": 29,
      "outputs": [
        {
          "output_type": "execute_result",
          "data": {
            "text/html": [
              "<div>\n",
              "<style scoped>\n",
              "    .dataframe tbody tr th:only-of-type {\n",
              "        vertical-align: middle;\n",
              "    }\n",
              "\n",
              "    .dataframe tbody tr th {\n",
              "        vertical-align: top;\n",
              "    }\n",
              "\n",
              "    .dataframe thead th {\n",
              "        text-align: right;\n",
              "    }\n",
              "</style>\n",
              "<table border=\"1\" class=\"dataframe\">\n",
              "  <thead>\n",
              "    <tr style=\"text-align: right;\">\n",
              "      <th></th>\n",
              "      <th>time_id</th>\n",
              "      <th>seconds_in_bucket</th>\n",
              "      <th>bid_price1</th>\n",
              "      <th>ask_price1</th>\n",
              "      <th>bid_price2</th>\n",
              "      <th>ask_price2</th>\n",
              "      <th>bid_size1</th>\n",
              "      <th>ask_size1</th>\n",
              "      <th>bid_size2</th>\n",
              "      <th>ask_size2</th>\n",
              "    </tr>\n",
              "  </thead>\n",
              "  <tbody>\n",
              "    <tr>\n",
              "      <th>0</th>\n",
              "      <td>5</td>\n",
              "      <td>0</td>\n",
              "      <td>1.001422</td>\n",
              "      <td>1.002301</td>\n",
              "      <td>1.00137</td>\n",
              "      <td>1.002353</td>\n",
              "      <td>3</td>\n",
              "      <td>226</td>\n",
              "      <td>2</td>\n",
              "      <td>100</td>\n",
              "    </tr>\n",
              "    <tr>\n",
              "      <th>1</th>\n",
              "      <td>5</td>\n",
              "      <td>1</td>\n",
              "      <td>1.001422</td>\n",
              "      <td>1.002301</td>\n",
              "      <td>1.00137</td>\n",
              "      <td>1.002353</td>\n",
              "      <td>3</td>\n",
              "      <td>100</td>\n",
              "      <td>2</td>\n",
              "      <td>100</td>\n",
              "    </tr>\n",
              "    <tr>\n",
              "      <th>2</th>\n",
              "      <td>5</td>\n",
              "      <td>5</td>\n",
              "      <td>1.001422</td>\n",
              "      <td>1.002301</td>\n",
              "      <td>1.00137</td>\n",
              "      <td>1.002405</td>\n",
              "      <td>3</td>\n",
              "      <td>100</td>\n",
              "      <td>2</td>\n",
              "      <td>100</td>\n",
              "    </tr>\n",
              "    <tr>\n",
              "      <th>3</th>\n",
              "      <td>5</td>\n",
              "      <td>6</td>\n",
              "      <td>1.001422</td>\n",
              "      <td>1.002301</td>\n",
              "      <td>1.00137</td>\n",
              "      <td>1.002405</td>\n",
              "      <td>3</td>\n",
              "      <td>126</td>\n",
              "      <td>2</td>\n",
              "      <td>100</td>\n",
              "    </tr>\n",
              "    <tr>\n",
              "      <th>4</th>\n",
              "      <td>5</td>\n",
              "      <td>7</td>\n",
              "      <td>1.001422</td>\n",
              "      <td>1.002301</td>\n",
              "      <td>1.00137</td>\n",
              "      <td>1.002405</td>\n",
              "      <td>3</td>\n",
              "      <td>126</td>\n",
              "      <td>2</td>\n",
              "      <td>100</td>\n",
              "    </tr>\n",
              "  </tbody>\n",
              "</table>\n",
              "</div>"
            ],
            "text/plain": [
              "   time_id  seconds_in_bucket  bid_price1  ...  ask_size1  bid_size2  ask_size2\n",
              "0        5                  0    1.001422  ...        226          2        100\n",
              "1        5                  1    1.001422  ...        100          2        100\n",
              "2        5                  5    1.001422  ...        100          2        100\n",
              "3        5                  6    1.001422  ...        126          2        100\n",
              "4        5                  7    1.001422  ...        126          2        100\n",
              "\n",
              "[5 rows x 10 columns]"
            ]
          },
          "metadata": {
            "tags": []
          },
          "execution_count": 29
        }
      ]
    }
  ]
}