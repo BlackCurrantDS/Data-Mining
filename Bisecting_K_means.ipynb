{
  "nbformat": 4,
  "nbformat_minor": 0,
  "metadata": {
    "colab": {
      "name": "Bisecting K-means.ipynb",
      "provenance": [],
      "authorship_tag": "ABX9TyMA4zGS0Qay9okOa+SxfDIS",
      "include_colab_link": true
    },
    "kernelspec": {
      "name": "python3",
      "display_name": "Python 3"
    },
    "language_info": {
      "name": "python"
    }
  },
  "cells": [
    {
      "cell_type": "markdown",
      "metadata": {
        "id": "view-in-github",
        "colab_type": "text"
      },
      "source": [
        "<a href=\"https://colab.research.google.com/github/BlackCurrantDS/Data-Mining/blob/master/Bisecting_K_means.ipynb\" target=\"_parent\"><img src=\"https://colab.research.google.com/assets/colab-badge.svg\" alt=\"Open In Colab\"/></a>"
      ]
    },
    {
      "cell_type": "code",
      "metadata": {
        "id": "F_zrmgQHTy_j"
      },
      "source": [
        "#importing the libraries\n",
        "import numpy as np\n",
        "import matplotlib.pyplot as plt\n",
        "import pandas as pd\n",
        "from sklearn.cluster import KMeans"
      ],
      "execution_count": 74,
      "outputs": []
    },
    {
      "cell_type": "code",
      "metadata": {
        "id": "bbYbXMbT4i58"
      },
      "source": [
        "#importing the Iris dataset with pandas\n",
        "dataset = pd.read_csv('Iris.csv')\n",
        "x = dataset.iloc[:, [1, 2, 3, 4]].values #since we know the position"
      ],
      "execution_count": 75,
      "outputs": []
    },
    {
      "cell_type": "code",
      "metadata": {
        "colab": {
          "base_uri": "https://localhost:8080/",
          "height": 301
        },
        "id": "FyBDwzo_T2ey",
        "outputId": "a75bb16b-5d88-4a4f-c2b2-1c8f35d7b2c4"
      },
      "source": [
        "#elbow method to get number of clusters\n",
        "\n",
        "wsse = []\n",
        "\n",
        "for i in range(1, 11): #random range \n",
        "    kmeans = KMeans(n_clusters = i, init = 'k-means++', max_iter = 300, n_init = 10, random_state = 0)\n",
        "    kmeans.fit(x)\n",
        "    wsse.append(kmeans.inertia_)\n",
        "    \n",
        "#Plotting the results\n",
        "\n",
        "plt.plot(range(1, 11), wsse)\n",
        "plt.title('Choosing Optimal K')\n",
        "plt.xlabel('Number of clusters')\n",
        "plt.ylabel('WSSE') #within cluster sum of squares\n",
        "plt.show()"
      ],
      "execution_count": 76,
      "outputs": [
        {
          "output_type": "display_data",
          "data": {
            "image/png": "[encoded data removed]",
            "text/plain": [
              "<Figure size 432x288 with 1 Axes>"
            ]
          },
          "metadata": {
            "tags": [],
            "needs_background": "light"
          }
        }
      ]
    },
    {
      "cell_type": "code",
      "metadata": {
        "id": "xE1-V8VaT8Hq"
      },
      "source": [
        "#getting k-means with 3 clusters\n",
        "kmeans = KMeans(n_clusters = 3, init = 'k-means++', max_iter = 300, n_init = 10, random_state = 0)\n",
        "y_kmeans = kmeans.fit_predict(x)"
      ],
      "execution_count": 77,
      "outputs": []
    },
    {
      "cell_type": "code",
      "metadata": {
        "id": "wJ_BL6V3W-oi"
      },
      "source": [
        "#getting SSE for each cluster\n",
        "\n",
        "cluster_centers = [x[kmeans.labels_ == i].mean(axis=0) for i in range(3)]\n",
        "\n",
        "clusterwise_sse = [0, 0, 0]\n",
        "for point, label in zip(x, kmeans.labels_):\n",
        "    clusterwise_sse[label] += np.square(point - cluster_centers[label]).sum()"
      ],
      "execution_count": 78,
      "outputs": []
    },
    {
      "cell_type": "code",
      "metadata": {
        "colab": {
          "base_uri": "https://localhost:8080/"
        },
        "id": "NAwobIVxXbmR",
        "outputId": "6035ede0-eb05-463a-e22e-8d8de9707155"
      },
      "source": [
        "clusterwise_sse"
      ],
      "execution_count": 79,
      "outputs": [
        {
          "output_type": "execute_result",
          "data": {
            "text/plain": [
              "[23.879473684210517, 15.240400000000003, 39.820967741935476]"
            ]
          },
          "metadata": {
            "tags": []
          },
          "execution_count": 79
        }
      ]
    },
    {
      "cell_type": "markdown",
      "metadata": {
        "id": "O64ZQfAqUI1X"
      },
      "source": [
        "Bisecting K-means"
      ]
    },
    {
      "cell_type": "markdown",
      "metadata": {
        "id": "LbC5iRy65Vjc"
      },
      "source": [
        "**Step 1** Choose 2 initial centroids, assign each object to its closest centroid, recompute the centroids after assignment Repeat until the centroids do not change anymore\n",
        "\n",
        "**Step 2** Calculate SSE of both the clusters, choose the cluster with the larger SSE to split\n",
        "\n",
        "**Step 3** Initialize, the centroids for the selected cluster and repeat the above steps\n",
        "\n",
        "**Step 4** Continue the process untill required number of clusters are obtained\n"
      ]
    },
    {
      "cell_type": "code",
      "metadata": {
        "id": "0va_u9mjUKT7"
      },
      "source": [
        "def run_kmeans(n, data):\n",
        "  kmeans = KMeans(n_clusters = n, init = 'k-means++', max_iter = 300, n_init = 10, random_state = 0)\n",
        "  y_kmeans = kmeans.fit_predict(data)\n",
        "  cluster_centers = [x[kmeans.labels_ == i].mean(axis=0) for i in range(2)]\n",
        "\n",
        "  clusterwise_sse = [0, 0]\n",
        "  for point, label in zip(x, kmeans.labels_):\n",
        "      clusterwise_sse[label] += np.square(point - cluster_centers[label]).sum()\n",
        "  return y_kmeans,clusterwise_sse,kmeans\n",
        "\n"
      ],
      "execution_count": 80,
      "outputs": []
    },
    {
      "cell_type": "code",
      "metadata": {
        "colab": {
          "base_uri": "https://localhost:8080/"
        },
        "id": "HBxfmk6ZZdtx",
        "outputId": "5b1e50fd-c79b-4d61-8ab6-daefc269f623"
      },
      "source": [
        "for i in range(2):\n",
        "\n",
        "  y_kmeans,clusterwise_sse,kmeans= run_kmeans(2,x)\n",
        "  \n",
        "  print(clusterwise_sse)\n",
        "\n",
        "  x, clust = (x[kmeans.labels_ == 0],x[kmeans.labels_ == 1]) if clusterwise_sse[0]>clusterwise_sse[1] else (x[kmeans.labels_ == 1],x[kmeans.labels_ == 0])\n",
        "  "
      ],
      "execution_count": 81,
      "outputs": [
        {
          "output_type": "stream",
          "text": [
            "[28.57283018867925, 123.7958762886598]\n",
            "[23.879473684210517, 31.77220338983051]\n"
          ],
          "name": "stdout"
        }
      ]
    }
  ]
}