{
  "nbformat": 4,
  "nbformat_minor": 0,
  "metadata": {
    "colab": {
      "name": "KPI_Check.ipynb",
      "provenance": [],
      "include_colab_link": true
    },
    "kernelspec": {
      "name": "python3",
      "display_name": "Python 3"
    }
  },
  "cells": [
    {
      "cell_type": "markdown",
      "metadata": {
        "id": "view-in-github",
        "colab_type": "text"
      },
      "source": [
        "<a href=\"https://colab.research.google.com/github/BlackCurrantDS/Data-Mining/blob/master/Post_to_slack.ipynb\" target=\"_parent\"><img src=\"https://colab.research.google.com/assets/colab-badge.svg\" alt=\"Open In Colab\"/></a>"
      ]
    },
    {
      "cell_type": "code",
      "metadata": {
        "id": "hawNsVptPrfo"
      },
      "source": [
        "pip install google-cloud-bigquery"
      ],
      "execution_count": null,
      "outputs": []
    },
    {
      "cell_type": "code",
      "metadata": {
        "id": "u5brQRyVcLva"
      },
      "source": [
        "from google.cloud import bigquery\n",
        "client = bigquery.Client.from_service_account_json(\"Riide-549adefc948b.json\")"
      ],
      "execution_count": null,
      "outputs": []
    },
    {
      "cell_type": "code",
      "metadata": {
        "id": "lO5qpm-7fJdA"
      },
      "source": [
        "sql = \"\"\"\n",
        "   \n",
        "    select * from riide-236711.xyzpay.adyen_received_payments\n",
        "    where  shopper_reference = 'RIIDE_USER_production_1037859';\n",
        "\"\"\"\n",
        "query_job = client.query(sql)  # Make an API request.\n",
        "\n"
      ],
      "execution_count": null,
      "outputs": []
    },
    {
      "cell_type": "code",
      "metadata": {
        "id": "DbmmMJ8s2KP9",
        "colab": {
          "base_uri": "https://localhost:8080/",
          "height": 35
        },
        "outputId": "daa03126-ee1c-467c-a57f-caa296607fcd"
      },
      "source": [
        "print(type(query_job))"
      ],
      "execution_count": null,
      "outputs": [
        {
          "output_type": "stream",
          "text": [
            "<class 'google.cloud.bigquery.job.QueryJob'>\n"
          ],
          "name": "stdout"
        }
      ]
    },
    {
      "cell_type": "code",
      "metadata": {
        "id": "79hDS84P2JVu"
      },
      "source": [
        "print(\"The query data:\")\n",
        "for row in query_job:\n",
        "    # Row values can be accessed by field name or index.\n",
        "    print(\"name={}, count={}\".format(row[0], row[\"shopper_reference\"]))"
      ],
      "execution_count": null,
      "outputs": []
    },
    {
      "cell_type": "code",
      "metadata": {
        "id": "rAl_mz9i6wm5"
      },
      "source": [
        "pip install --upgrade google-cloud-bigquery-storage"
      ],
      "execution_count": null,
      "outputs": []
    },
    {
      "cell_type": "code",
      "metadata": {
        "id": "p3BdHpBg3yYA"
      },
      "source": [
        "from google.cloud import bigquery\n",
        "\n",
        "client = bigquery.Client.from_service_account_json(\"Riide-549adefc948b.json\")\n",
        "sql = \"\"\"\n",
        "    select * from riide-236711.xyzpay.adyen_received_payments\n",
        "    where  shopper_reference = 'RIIDE_USER_production_1037859'\n",
        "\"\"\"\n",
        "\n",
        "# Run a Standard SQL query using the environment's default project\n",
        "df = client.query(sql).to_dataframe()\n"
      ],
      "execution_count": null,
      "outputs": []
    },
    {
      "cell_type": "code",
      "metadata": {
        "id": "1gLaLzF2kNiW"
      },
      "source": [
        "\"\"\"\n",
        "SELECT count(company_id), company_id, co.name as company FROM `riide-236711.riide_backend.pre_auths` pa\n",
        "left join `riide_backend.companies` co on co.id = pa.company_id\n",
        "where pa.created_at between '2020-08-08 00:00:00' and '2020-08-09 23:59:59' and state = 'failed_capture' group by company_id, company;\n",
        "\n",
        "select count(*) from `riide-236711.riide_backend.bookings`\n",
        "where lower(state) <> 'requested'\n",
        "and EXTRACT(date FROM created_at) = DATE_SUB(current_DATE(), INTERVAL 1 DAY);\n",
        "\n",
        "\n",
        "\"\"\""
      ],
      "execution_count": null,
      "outputs": []
    },
    {
      "cell_type": "code",
      "metadata": {
        "id": "WBG9T0bikUFa",
        "colab": {
          "base_uri": "https://localhost:8080/",
          "height": 53
        },
        "outputId": "7f4e8de5-edc4-4054-cc8a-fa907fbf8b1b"
      },
      "source": [
        "import requests\n",
        "import json\n",
        "\n",
        "if __name__ == '__main__':\n",
        "\n",
        "    wekbook_url = ''\n",
        "\n",
        "    data = {\n",
        "        'text': 'Test Siya',\n",
        "        'username': 'Siya',\n",
        "        'icon_emoji': ':robot_face:'\n",
        "    }\n",
        "\n",
        "    response = requests.post(wekbook_url, data=json.dumps(\n",
        "        data), headers={'Content-Type': 'application/json'})\n",
        "\n",
        "    print('Response: ' + str(response.text))\n",
        "    print('Response code: ' + str(response.status_code))\n",
        "\n"
      ],
      "execution_count": null,
      "outputs": [
        {
          "output_type": "stream",
          "text": [
            "Response: ok\n",
            "Response code: 200\n"
          ],
          "name": "stdout"
        }
      ]
    },
    {
      "cell_type": "markdown",
      "metadata": {
        "id": "Nkdpl81r1ram"
      },
      "source": [
        "New code"
      ]
    },
    {
      "cell_type": "code",
      "metadata": {
        "id": "JccBYthH1s_k"
      },
      "source": [
        "def slackBot(message):\n",
        "    webhook_url = ''\n",
        "    slack_data = {\"text\":\"``` \" + str(message) + \" ``` <!here>\"}\n",
        "    header = {'Content-Type': 'application/json'}\n",
        "    response = requests.post(webhook_url, json=slack_data,headers=header)\n",
        "    if response.status_code != 200:\n",
        "        raise ValueError(\n",
        "            'Request to slack returned an error %s, the response is:\\n%s'\n",
        "            % (response.status_code, response.text)\n",
        "          )"
      ],
      "execution_count": null,
      "outputs": []
    },
    {
      "cell_type": "code",
      "metadata": {
        "id": "4LZCqwIj1Ars"
      },
      "source": [
        "def prepareSlackMessage(self, cur):\n",
        "        from tabulate import tabulate\n",
        "        query         = \"select * from riide-236711.xyzpay.adyen_received_payments where  shopper_reference = 'RIIDE_USER_production_1037859'\"\n",
        "        print(query)\n",
        "        out         = dbQuery(cur, query)\n",
        "        if len(out) > 0:\n",
        "            df = pd.DataFrame(data=list(out), index=None, dtype=object)\n",
        "            df_tab  = tabulate([list(row) for row in df.values], headers=list(df.columns), tablefmt=\"grid\", stralign=\"center\")\n",
        "            print df_tab\n",
        "        else:\n",
        "            df_tab = \"Nothing to post, the database query didnt return any result\"\n",
        "            print df_tab\n",
        "\n",
        "        return df_ta"
      ],
      "execution_count": null,
      "outputs": []
    },
    {
      "cell_type": "code",
      "metadata": {
        "id": "ZIXiAwFn4nRN"
      },
      "source": [
        "#https://stackoverflow.com/questions/39792891/what-are-some-ways-to-post-python-pandas-dataframes-to-slack"
      ],
      "execution_count": null,
      "outputs": []
    }
  ]
}