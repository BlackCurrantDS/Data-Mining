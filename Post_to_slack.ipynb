{
  "nbformat": 4,
  "nbformat_minor": 0,
  "metadata": {
    "colab": {
      "name": "KPI_Check.ipynb",
      "provenance": [],
      "include_colab_link": true
    },
    "kernelspec": {
      "name": "python3",
      "display_name": "Python 3"
    }
  },
  "cells": [
    {
      "cell_type": "markdown",
      "metadata": {
        "id": "view-in-github",
        "colab_type": "text"
      },
      "source": [
        "<a href=\"https://colab.research.google.com/github/BlackCurrantDS/Data-Mining/blob/master/Post_to_slack.ipynb\" target=\"_parent\"><img src=\"https://colab.research.google.com/assets/colab-badge.svg\" alt=\"Open In Colab\"/></a>"
      ]
    },
    {
      "cell_type": "code",
      "metadata": {
        "id": "hawNsVptPrfo"
      },
      "source": [
        "pip install google-cloud-bigquery"
      ],
      "execution_count": null,
      "outputs": []
    },
    {
      "cell_type": "code",
      "metadata": {
        "id": "u5brQRyVcLva"
      },
      "source": [
        "from google.cloud import bigquery\n",
        "client = bigquery.Client.from_service_account_json(\"file.json\")"
      ],
      "execution_count": null,
      "outputs": []
    },
    {
      "cell_type": "code",
      "metadata": {
        "id": "lO5qpm-7fJdA"
      },
      "source": [
        "sql = \"\"\"\n",
        "   \n",
        "    select * from your_table\n",
        "    where  you_condition = 'your_condition';\n",
        "\"\"\"\n",
        "query_job = client.query(sql)  # Make an API request.\n",
        "\n"
      ],
      "execution_count": null,
      "outputs": []
    },
    {
      "cell_type": "code",
      "metadata": {
        "id": "79hDS84P2JVu"
      },
      "source": [
        "print(\"The query data:\")\n",
        "for row in query_job:\n",
        "    # Row values can be accessed by field name or index.\n",
        "    print(\"name={}, count={}\".format(row[0], row[\"cols\"]))"
      ],
      "execution_count": null,
      "outputs": []
    },
    {
      "cell_type": "code",
      "metadata": {
        "id": "rAl_mz9i6wm5"
      },
      "source": [
        "pip install --upgrade google-cloud-bigquery-storage"
      ],
      "execution_count": null,
      "outputs": []
    },
    {
      "cell_type": "code",
      "metadata": {
        "id": "p3BdHpBg3yYA"
      },
      "source": [
        "from google.cloud import bigquery\n",
        "\n",
        "client = bigquery.Client.from_service_account_json(\"file.json\")\n",
        "sql = \"\"\"\n",
        "   select * from your_table\n",
        "    where  you_condition = 'your_condition'\n",
        "\"\"\"\n",
        "\n",
        "# Run a Standard SQL query using the environment's default project\n",
        "df = client.query(sql).to_dataframe()\n"
      ],
      "execution_count": null,
      "outputs": []
    },
    {
      "cell_type": "code",
      "metadata": {
        "id": "WBG9T0bikUFa",
        "colab": {
          "base_uri": "https://localhost:8080/",
          "height": 53
        },
        "outputId": "7f4e8de5-edc4-4054-cc8a-fa907fbf8b1b"
      },
      "source": [
        "import requests\n",
        "import json\n",
        "\n",
        "#testing connection\n",
        "\n",
        "if __name__ == '__main__':\n",
        "\n",
        "    wekbook_url = ''\n",
        "\n",
        "    data = {\n",
        "        'text': 'Test Siya',\n",
        "        'username': 'Siya',\n",
        "        'icon_emoji': ':robot_face:'\n",
        "    }\n",
        "\n",
        "    response = requests.post(wekbook_url, data=json.dumps(\n",
        "        data), headers={'Content-Type': 'application/json'})\n",
        "\n",
        "    print('Response: ' + str(response.text))\n",
        "    print('Response code: ' + str(response.status_code))\n",
        "\n"
      ],
      "execution_count": null,
      "outputs": [
        {
          "output_type": "stream",
          "text": [
            "Response: ok\n",
            "Response code: 200\n"
          ],
          "name": "stdout"
        }
      ]
    },
    {
      "cell_type": "code",
      "metadata": {
        "id": "JccBYthH1s_k"
      },
      "source": [
        "#posting message to slack channel\n",
        "def slackBot(message):\n",
        "    webhook_url = ''\n",
        "    slack_data = {\"text\":\"``` \" + str(message) + \" ``` <!here>\"}\n",
        "    header = {'Content-Type': 'application/json'}\n",
        "    response = requests.post(webhook_url, json=slack_data,headers=header)\n",
        "    if response.status_code != 200:\n",
        "        raise ValueError(\n",
        "            'Request to slack returned an error %s, the response is:\\n%s'\n",
        "            % (response.status_code, response.text)\n",
        "          )"
      ],
      "execution_count": null,
      "outputs": []
    }
  ]
}