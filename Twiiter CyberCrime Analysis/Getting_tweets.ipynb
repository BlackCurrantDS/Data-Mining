{
  "nbformat": 4,
  "nbformat_minor": 0,
  "metadata": {
    "colab": {
      "name": "Getting_tweets.ipynb",
      "provenance": [],
      "authorship_tag": "ABX9TyPqw/oc9hh70FXegy+pgpbo",
      "include_colab_link": true
    },
    "kernelspec": {
      "name": "python3",
      "display_name": "Python 3"
    },
    "language_info": {
      "name": "python"
    }
  },
  "cells": [
    {
      "cell_type": "markdown",
      "metadata": {
        "id": "view-in-github",
        "colab_type": "text"
      },
      "source": [
        "<a href=\"https://colab.research.google.com/github/BlackCurrantDS/Data-Mining/blob/master/Getting_tweets.ipynb\" target=\"_parent\"><img src=\"https://colab.research.google.com/assets/colab-badge.svg\" alt=\"Open In Colab\"/></a>"
      ]
    },
    {
      "cell_type": "code",
      "metadata": {
        "id": "TLpwrlrTv9_b"
      },
      "source": [
        "import os\n",
        "import tweepy as tw\n",
        "import pandas as pd"
      ],
      "execution_count": 71,
      "outputs": []
    },
    {
      "cell_type": "code",
      "metadata": {
        "id": "xHSFqDSQwvPD"
      },
      "source": [
        "consumer_key= 'key'\n",
        "consumer_secret= 'key'\n",
        "access_token= 'key'\n",
        "access_token_secret= 'key'"
      ],
      "execution_count": 72,
      "outputs": []
    },
    {
      "cell_type": "code",
      "metadata": {
        "id": "5f7p33E7x_o6"
      },
      "source": [
        "auth = tw.OAuthHandler(consumer_key, consumer_secret)\n",
        "auth.set_access_token(access_token, access_token_secret)\n",
        "api = tw.API(auth, wait_on_rate_limit=True,wait_on_rate_limit_notify=True)"
      ],
      "execution_count": 73,
      "outputs": []
    },
    {
      "cell_type": "code",
      "metadata": {
        "id": "afctk-8UyF8y"
      },
      "source": [
        "# Define the search term and the date_since date as variables\n",
        "search_words = \"cybercrime\"\n",
        "date_since = \"2021-07-30\""
      ],
      "execution_count": 74,
      "outputs": []
    },
    {
      "cell_type": "code",
      "metadata": {
        "id": "Cc67XHf0yRHq"
      },
      "source": [
        "# Collect tweets\n",
        "tweets = tw.Cursor(api.search,\n",
        "              q=search_words,\n",
        "              lang=\"en\",\n",
        "              since=date_since).items()"
      ],
      "execution_count": 75,
      "outputs": []
    },
    {
      "cell_type": "code",
      "metadata": {
        "id": "TqIm_8Gp2EaC"
      },
      "source": [
        "tweets_list = [[tweet.text, tweet.created_at, tweet.user.screen_name,  tweet.user.location,tweet.coordinates, tweet.place,tweet.user.verified] for tweet in tweets]\n",
        " \n",
        "tweets_df = pd.DataFrame(tweets_list)"
      ],
      "execution_count": 76,
      "outputs": []
    },
    {
      "cell_type": "code",
      "metadata": {
        "colab": {
          "base_uri": "https://localhost:8080/",
          "height": 415
        },
        "id": "j1lajxy22OoZ",
        "outputId": "ea8cb6cb-cb01-4213-a640-4b1316f37993"
      },
      "source": [
        "tweets_df"
      ],
      "execution_count": 77,
      "outputs": [
        {
          "output_type": "execute_result",
          "data": {
            "text/html": [
              "<div>\n",
              "<style scoped>\n",
              "    .dataframe tbody tr th:only-of-type {\n",
              "        vertical-align: middle;\n",
              "    }\n",
              "\n",
              "    .dataframe tbody tr th {\n",
              "        vertical-align: top;\n",
              "    }\n",
              "\n",
              "    .dataframe thead th {\n",
              "        text-align: right;\n",
              "    }\n",
              "</style>\n",
              "<table border=\"1\" class=\"dataframe\">\n",
              "  <thead>\n",
              "    <tr style=\"text-align: right;\">\n",
              "      <th></th>\n",
              "      <th>0</th>\n",
              "      <th>1</th>\n",
              "      <th>2</th>\n",
              "      <th>3</th>\n",
              "      <th>4</th>\n",
              "      <th>5</th>\n",
              "      <th>6</th>\n",
              "    </tr>\n",
              "  </thead>\n",
              "  <tbody>\n",
              "    <tr>\n",
              "      <th>0</th>\n",
              "      <td>RT @HackersReview_: Hackers Use IE Fixed 0Day ...</td>\n",
              "      <td>2021-07-30 14:49:14</td>\n",
              "      <td>botcybersec</td>\n",
              "      <td>India</td>\n",
              "      <td>None</td>\n",
              "      <td>None</td>\n",
              "      <td>False</td>\n",
              "    </tr>\n",
              "    <tr>\n",
              "      <th>1</th>\n",
              "      <td>Technological developments and the future of c...</td>\n",
              "      <td>2021-07-30 14:49:10</td>\n",
              "      <td>Fosma5</td>\n",
              "      <td>Mumbai</td>\n",
              "      <td>None</td>\n",
              "      <td>None</td>\n",
              "      <td>False</td>\n",
              "    </tr>\n",
              "    <tr>\n",
              "      <th>2</th>\n",
              "      <td>RT @Corix_JC: 85% of #CyberEspionage Is State-...</td>\n",
              "      <td>2021-07-30 14:48:03</td>\n",
              "      <td>Transform_Sec</td>\n",
              "      <td>London, England</td>\n",
              "      <td>None</td>\n",
              "      <td>None</td>\n",
              "      <td>False</td>\n",
              "    </tr>\n",
              "    <tr>\n",
              "      <th>3</th>\n",
              "      <td>RT @HallyKush: @gafar_mashood D same person da...</td>\n",
              "      <td>2021-07-30 14:47:50</td>\n",
              "      <td>Teeblaq19</td>\n",
              "      <td>Abuja, Nigeria</td>\n",
              "      <td>None</td>\n",
              "      <td>None</td>\n",
              "      <td>False</td>\n",
              "    </tr>\n",
              "    <tr>\n",
              "      <th>4</th>\n",
              "      <td>RT @BillMew: #Govtech #security via @GovInfoSe...</td>\n",
              "      <td>2021-07-30 14:47:23</td>\n",
              "      <td>Transform_Sec</td>\n",
              "      <td>London, England</td>\n",
              "      <td>None</td>\n",
              "      <td>None</td>\n",
              "      <td>False</td>\n",
              "    </tr>\n",
              "    <tr>\n",
              "      <th>...</th>\n",
              "      <td>...</td>\n",
              "      <td>...</td>\n",
              "      <td>...</td>\n",
              "      <td>...</td>\n",
              "      <td>...</td>\n",
              "      <td>...</td>\n",
              "      <td>...</td>\n",
              "    </tr>\n",
              "    <tr>\n",
              "      <th>1685</th>\n",
              "      <td>Blockchain technology is being looked on to de...</td>\n",
              "      <td>2021-07-30 00:01:24</td>\n",
              "      <td>health_hciss</td>\n",
              "      <td></td>\n",
              "      <td>None</td>\n",
              "      <td>None</td>\n",
              "      <td>False</td>\n",
              "    </tr>\n",
              "    <tr>\n",
              "      <th>1686</th>\n",
              "      <td>Taking cozy to the nation's capital, with a si...</td>\n",
              "      <td>2021-07-30 00:01:16</td>\n",
              "      <td>CSalem11</td>\n",
              "      <td></td>\n",
              "      <td>None</td>\n",
              "      <td>None</td>\n",
              "      <td>False</td>\n",
              "    </tr>\n",
              "    <tr>\n",
              "      <th>1687</th>\n",
              "      <td>With cybercrime on the rise, it is becoming in...</td>\n",
              "      <td>2021-07-30 00:01:00</td>\n",
              "      <td>moof_it</td>\n",
              "      <td>London, England</td>\n",
              "      <td>None</td>\n",
              "      <td>None</td>\n",
              "      <td>False</td>\n",
              "    </tr>\n",
              "    <tr>\n",
              "      <th>1688</th>\n",
              "      <td>RT @TheHackersNews: Two new #ransomware gangs ...</td>\n",
              "      <td>2021-07-30 00:00:45</td>\n",
              "      <td>dwairlk</td>\n",
              "      <td>Perth</td>\n",
              "      <td>None</td>\n",
              "      <td>None</td>\n",
              "      <td>False</td>\n",
              "    </tr>\n",
              "    <tr>\n",
              "      <th>1689</th>\n",
              "      <td>Predicted Malicious Domain :  jainury[.]com \\n...</td>\n",
              "      <td>2021-07-30 00:00:01</td>\n",
              "      <td>BforeAi</td>\n",
              "      <td>Planet Earth</td>\n",
              "      <td>None</td>\n",
              "      <td>None</td>\n",
              "      <td>False</td>\n",
              "    </tr>\n",
              "  </tbody>\n",
              "</table>\n",
              "<p>1690 rows × 7 columns</p>\n",
              "</div>"
            ],
            "text/plain": [
              "                                                      0  ...      6\n",
              "0     RT @HackersReview_: Hackers Use IE Fixed 0Day ...  ...  False\n",
              "1     Technological developments and the future of c...  ...  False\n",
              "2     RT @Corix_JC: 85% of #CyberEspionage Is State-...  ...  False\n",
              "3     RT @HallyKush: @gafar_mashood D same person da...  ...  False\n",
              "4     RT @BillMew: #Govtech #security via @GovInfoSe...  ...  False\n",
              "...                                                 ...  ...    ...\n",
              "1685  Blockchain technology is being looked on to de...  ...  False\n",
              "1686  Taking cozy to the nation's capital, with a si...  ...  False\n",
              "1687  With cybercrime on the rise, it is becoming in...  ...  False\n",
              "1688  RT @TheHackersNews: Two new #ransomware gangs ...  ...  False\n",
              "1689  Predicted Malicious Domain :  jainury[.]com \\n...  ...  False\n",
              "\n",
              "[1690 rows x 7 columns]"
            ]
          },
          "metadata": {
            "tags": []
          },
          "execution_count": 77
        }
      ]
    },
    {
      "cell_type": "code",
      "metadata": {
        "id": "5sl58-Td5beo"
      },
      "source": [
        "#saving to csv , ran at 5 PM CET\n",
        "tweets_df.to_csv(\"tweets_cyber_crime_30072021.csv\")"
      ],
      "execution_count": 78,
      "outputs": []
    }
  ]
}